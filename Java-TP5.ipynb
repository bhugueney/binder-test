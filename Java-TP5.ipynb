{
 "cells": [
  {
   "cell_type": "markdown",
   "metadata": {},
   "source": [
    "# TP 5\n",
    "\n",
    "## Question 1\n",
    "\n",
    "Les collections standard redéfinissent la méthode `toString()` ce qui permet d'afficher leur contenu directement (contrairement aux tableaux) donc l'exercice est surtout un prétexte pour manipuler tous les éléments d'une liste."
   ]
  },
  {
   "cell_type": "code",
   "execution_count": 1,
   "metadata": {},
   "outputs": [
    {
     "data": {
      "text/plain": [
       "com.twosigma.beaker.javash.bkrc0547989.Tp5Q1"
      ]
     },
     "execution_count": 1,
     "metadata": {},
     "output_type": "execute_result"
    }
   ],
   "source": [
    "import java.util.ArrayList;\n",
    "public class Tp5Q1{\n",
    "    public static void afficheListe(ArrayList<Integer> xs){\n",
    "        for(Integer i : xs){\n",
    "            System.out.print(\"\"+i+\",\");\n",
    "        }\n",
    "        System.out.println();\n",
    "    }\n",
    "}"
   ]
  },
  {
   "cell_type": "code",
   "execution_count": 2,
   "metadata": {},
   "outputs": [
    {
     "name": "stdout",
     "output_type": "stream",
     "text": [
      "2,4,1,2,4,3,0,-1,\n"
     ]
    },
    {
     "data": {
      "text/plain": [
       "null"
      ]
     },
     "execution_count": 2,
     "metadata": {},
     "output_type": "execute_result"
    }
   ],
   "source": [
    "import java.util.Arrays;\n",
    "import java.util.ArrayList;\n",
    "Tp5Q1.afficheListe(new ArrayList<Integer>(Arrays.asList(2,4,1,2,4,3,0, -1)));"
   ]
  },
  {
   "cell_type": "code",
   "execution_count": 3,
   "metadata": {},
   "outputs": [
    {
     "data": {
      "text/plain": [
       "com.twosigma.beaker.javash.bkrc0547989.Tp5Q1"
      ]
     },
     "execution_count": 3,
     "metadata": {},
     "output_type": "execute_result"
    }
   ],
   "source": [
    "import java.util.ArrayList;\n",
    "import java.util.Iterator;\n",
    "\n",
    "public class Tp5Q1{\n",
    "    public static void afficheListe(ArrayList<Integer> xs){\n",
    "        Iterator<Integer> it= xs.iterator();\n",
    "        while(it.hasNext()){\n",
    "            System.out.print(\"\"+it.next()+\",\");\n",
    "        }\n",
    "        System.out.println();\n",
    "    }\n",
    "}"
   ]
  },
  {
   "cell_type": "code",
   "execution_count": 4,
   "metadata": {},
   "outputs": [
    {
     "data": {
      "text/plain": [
       "com.twosigma.beaker.javash.bkrc0547989.Tp5Q1"
      ]
     },
     "execution_count": 4,
     "metadata": {},
     "output_type": "execute_result"
    }
   ],
   "source": [
    "import java.util.ArrayList;\n",
    "public class Tp5Q1{\n",
    "    public static void afficheListe(ArrayList<Integer> xs){\n",
    "        for(int i= 0; i != xs.size(); ++i){\n",
    "            System.out.print(\"\"+ xs.get(i)+\",\");\n",
    "        }\n",
    "        System.out.println();\n",
    "    }\n",
    "}"
   ]
  },
  {
   "cell_type": "markdown",
   "metadata": {},
   "source": [
    "Que se passe-t'il si (quand!) on veut traiter les éléments d'une [LinkedList](https://docs.oracle.com/javase/10/docs/api/java/util/LinkedList.html) ?\n",
    "Que se passe-t'il si (quand!) on veut traiter les éléments d'un [TreeSet](https://docs.oracle.com/javase/10/docs/api/java/util/TreeSet.html) ou un [HashSet](https://docs.oracle.com/javase/10/docs/api/java/util/HashSet.html) ?"
   ]
  },
  {
   "cell_type": "markdown",
   "metadata": {},
   "source": [
    "## Exercice 2 : Nombre d’occurrences de chaque valeur"
   ]
  },
  {
   "cell_type": "code",
   "execution_count": 5,
   "metadata": {},
   "outputs": [
    {
     "data": {
      "text/plain": [
       "com.twosigma.beaker.javash.bkrc0547989.Tp5Q2"
      ]
     },
     "execution_count": 5,
     "metadata": {},
     "output_type": "execute_result"
    }
   ],
   "source": [
    "import java.util.Scanner;\n",
    "import java.util.InputMismatchException;\n",
    "import java.util.Collection;\n",
    "import java.util.ArrayList;\n",
    "import java.util.Collection;\n",
    "import java.util.Arrays;\n",
    "\n",
    "public class Tp5Q2 {\n",
    "    public static Scanner sc= new Scanner(System.in);\n",
    "    \n",
    "    public static int inputInteger(String msg){\n",
    "        int res= 0;\n",
    "        boolean ok= false;\n",
    "        while (!ok){\n",
    "            System.out.println(msg);\n",
    "            try{\n",
    "                res= sc.nextInt();\n",
    "                ok= true;\n",
    "            }catch(InputMismatchException e){\n",
    "                sc.nextLine(); // on retire ce qui reste dans le buffer de lecture et qui n'est pas un entier\n",
    "            }\n",
    "            if(!ok){\n",
    "                System.err.println(\"Vous devez entrer un nombre entier\");\n",
    "            }\n",
    "        }\n",
    "        return res;\n",
    "    }\n",
    "    public static int countNbOcc(Collection<Integer> xs, int v){\n",
    "        int res= 0;\n",
    "        for(int x : xs){\n",
    "            if(x == v){\n",
    "                ++res;\n",
    "            }\n",
    "        }\n",
    "        return res;\n",
    "    }\n",
    "    public static int countNbOccExplicit(Collection<Integer> xs, int v){\n",
    "        int res= 0;\n",
    "        for(Integer x : xs){\n",
    "            if(x.intValue() == v){\n",
    "                ++res;\n",
    "            }\n",
    "        }\n",
    "        return res;\n",
    "    }\n",
    "    public static int countNbOccExplicitTernary(Collection<Integer> xs, int v){\n",
    "        int res= 0;\n",
    "        for(Integer x : xs){\n",
    "            res+= (x.intValue() == v) ? 1 : 0;\n",
    "        }\n",
    "        return res;\n",
    "    }\n",
    "    public static void testNbOcc(){\n",
    "        ArrayList<Integer> list = new ArrayList<>(Arrays.asList(2, 65, 42, 53,27, 2, 42, 27, 2, 53, 53, 53, 65, 21, 27, 53, 2, 53, 65, 27));\n",
    "        int v= inputInteger(\"Entrez le nombre entier dont vous voulez compter le nombre d'occurences\");\n",
    "        System.out.print(\"La liste : \");\n",
    "        Tp5Q1.afficheListe(list);\n",
    "        System.out.println(\" contient \"+ countNbOcc(list, v)+\" fois la valeur \"+ v);\n",
    "    }\n",
    "}"
   ]
  },
  {
   "cell_type": "code",
   "execution_count": 6,
   "metadata": {},
   "outputs": [
    {
     "data": {
      "text/plain": [
       "com.twosigma.beaker.javash.bkrc0547989.Tp5Q3"
      ]
     },
     "execution_count": 6,
     "metadata": {},
     "output_type": "execute_result"
    }
   ],
   "source": [
    "import java.util.List;\n",
    "import java.util.ArrayList;\n",
    "import java.util.Arrays;\n",
    "import java.util.Iterator;\n",
    "\n",
    "public class Tp5Q3 {\n",
    "    public static int remove(List<Integer> list, int v){\n",
    "        int res= 0;\n",
    "        Integer elt= new Integer(v);// ou Integer.valueOf(v);\n",
    "        for(boolean canContainV= list.remove(elt); canContainV; canContainV=list.remove(elt)){\n",
    "           ++res;\n",
    "        }\n",
    "        return res;\n",
    "    }\n",
    "    public static int removeIteratorObj(List<Integer> list, int v){\n",
    "        int res= 0;\n",
    "        Integer elt= new Integer(v);// ou Integer.valueOf(v);\n",
    "        Iterator<Integer> it= list.iterator();\n",
    "        while(it.hasNext()){\n",
    "            if(it.next().equals(elt)){\n",
    "                it.remove();\n",
    "                ++res;\n",
    "            }\n",
    "        }\n",
    "        return res;\n",
    "    }\n",
    "    public static int removeIteratorImplict(List<Integer> list, int v){\n",
    "        int res= 0;\n",
    "        Iterator<Integer> it= list.iterator();\n",
    "        while(it.hasNext()){\n",
    "            int current= it.next();\n",
    "            if(current == v){\n",
    "                it.remove();\n",
    "                ++res;\n",
    "            }\n",
    "        }\n",
    "        return res;\n",
    "    }\n",
    "    public static int removeIteratorExplicit(List<Integer> list, int v){\n",
    "        int res= 0;\n",
    "        Iterator<Integer> it= list.iterator();\n",
    "        while(it.hasNext()){\n",
    "            if(it.next().intValue()== v){\n",
    "                it.remove();\n",
    "                ++res;\n",
    "            }\n",
    "        }\n",
    "        return res;\n",
    "    }\n",
    "    public static void testNbOcc(){\n",
    "        ArrayList<Integer> list = new ArrayList<>(Arrays.asList(2, 65, 42, 53,27, 2, 42, 27, 2, 53, 53, 53, 65, 21, 27, 53, 2, 53, 65, 27));\n",
    "        System.out.print(\"La liste : \");\n",
    "        Tp5Q1.afficheListe(list);\n",
    "        int v= Tp5Q2.inputInteger(\"Entrez le nombre entier que vous voulez supprimer de la liste\");\n",
    "        System.out.println(\" suppression de \"+ remove(list, v)+\" occurrences :\");\n",
    "        Tp5Q1.afficheListe(list);\n",
    "        \n",
    "    }\n",
    "}"
   ]
  },
  {
   "cell_type": "code",
   "execution_count": 7,
   "metadata": {},
   "outputs": [
    {
     "data": {
      "text/plain": [
       "com.twosigma.beaker.javash.bkrc0547989.Tp5Q4"
      ]
     },
     "execution_count": 7,
     "metadata": {},
     "output_type": "execute_result"
    }
   ],
   "source": [
    "import java.util.Map;\n",
    "\n",
    "public class Tp5Q4{\n",
    "    public static void afficheDico(Map m){\n",
    "        for(Object o : m.entrySet()){\n",
    "            Map.Entry e= (Map.Entry)o;\n",
    "            System.out.print(\"(\"+e.getKey()+\",\"+e.getValue()+\"),\");\n",
    "        }\n",
    "        System.out.println();\n",
    "    }\n",
    "    public static void afficheDicoWithKey(Map m){\n",
    "        for(Object k: m.keySet()){\n",
    "            System.out.print(\"(\"+k+\",\"+m.get(k)+\"),\");\n",
    "        }\n",
    "        System.out.println();\n",
    "    }\n",
    "    public static<K,V> void afficheDicoGeneric(Map<K,V> m){\n",
    "        for(Map.Entry<K,V> e : m.entrySet()){\n",
    "            System.out.print(\"(\"+e.getKey()+\",\"+e.getValue()+\"),\");\n",
    "        }\n",
    "        System.out.println();\n",
    "    }\n",
    "}"
   ]
  },
  {
   "cell_type": "code",
   "execution_count": 8,
   "metadata": {},
   "outputs": [
    {
     "data": {
      "text/plain": [
       "com.twosigma.beaker.javash.bkrc0547989.Tp5Q5"
      ]
     },
     "execution_count": 8,
     "metadata": {},
     "output_type": "execute_result"
    }
   ],
   "source": [
    "import java.util.Map;\n",
    "import java.util.HashMap;\n",
    "import java.util.Collection;\n",
    "\n",
    "public class Tp5Q5{\n",
    "    public static Map<Object, Integer> frequencies(Collection xs){\n",
    "        Map<Object, Integer> res= new HashMap<Object, Integer>();\n",
    "        for(Object o : xs){\n",
    "            Integer n= res.get(o);\n",
    "            res.put(o, ((n==null) ? 0 : n.intValue()) + 1);\n",
    "        }\n",
    "        return res;\n",
    "    }\n",
    "    public static<T> Map<T, Integer> frequenciesGeneric(Collection<T> xs){\n",
    "        Map<T, Integer> res= new HashMap<T, Integer>();\n",
    "        for(T x : xs){\n",
    "            Integer n= res.get(x);\n",
    "            res.put(x, ((n==null) ? 0 : n.intValue()) + 1);\n",
    "        }\n",
    "        return res;\n",
    "    }\n",
    "    public static Map<Object, Integer> frequenciesSlower(Collection xs){\n",
    "        Map<Object, Integer> res= new HashMap<Object, Integer>();\n",
    "        for(Object o : xs){\n",
    "            int n= 0;\n",
    "            if(res.containsKey(o)){\n",
    "                n= res.get(o);\n",
    "            }\n",
    "            res.put(o, n + 1);\n",
    "        }\n",
    "        return res;\n",
    "    }\n",
    "    \n",
    "    public static void displayFrequencies(Collection xs){\n",
    "        Tp5Q4.afficheDico(frequencies(xs));\n",
    "    }\n",
    "}"
   ]
  },
  {
   "cell_type": "markdown",
   "metadata": {},
   "source": [
    "## Exercice 6 : Gestion d’une classe\n",
    "On peut gérer de différentes façons les informations liées à un étudiant. Le plus facile est d'avoir seulement une liste d'objets d'une classe `Student` avec toutes les informations. Un problème est alors posé lorsqu'on veut savoir si un identifiant est disponible ou trouver le prochain identifiants disponibles. On pourrait trier la liste des étudiants selon les identifiants, mais il faudrait alors maintenir la liste triée en fonction des ajouts et suppression d'étudiants. On pourrait aussi avoir une liste par promotion, dans une `Map`, plutôt qu'une seule liste : récupérer la liste des étudiants d'une promotion serait alors plus rapide, mais il faudrait assurer la cohérence entre la `Map` et l'attribut `schoolYear`, ou alors supprimer l'attribut, mais dans ce cas il faudrait rechercher dans les différentes listes pour retrouver un objet de classe `Student` et savoir à quelle promotion il appartient.\n",
    "\n",
    "Pour résoudre ce dernier point et pouvoir retrouver rapidement un étudiant, on pourrait utiliser des `Set` à la place de listes. Mais souvent, on voudrait pouvoir retrouver l'étudiant avec toutes les informations le concernant (prénom et nom) à partir de l'identifiant seul. Pour cela, on peut utiliser une astuce : avec une `Map<Student, Student>` plutôt qu'un `Set<Student>` à la place de la liste et en ayant pris soin de définir l'égalité (`.equals`, mais aussi `.hashCode` pour l'utilisation dans `HashSet<>` ou `HashMap<>`) seulement en fonction de l'identifiant, on peut efficacement tester si un étudiant, à partir d'un identifiant donné, existe et récupérer les informations le concernant le cas échéant.\n",
    "\n",
    "\n",
    "Aussi, on pourra vouloir imposer que les étudiants ajoutés soient affectés à des promotions déjà existantes. Pour cela, on stockera les années scolaires dans une collection. Même si le nombre d'années scolaires n'est sans pas très grand, on utilisera un `Set<>` et au cas où l'on voudrait parcourir les promotions dans un ordre stable, on utilisera l'implémentation ordonnées `TreeSet<>`.\n",
    "\n",
    "Finalement, il serait très peu commode de devoir indiquer l'identifiant d'un étudiant lors de sa création. Il faudrait trouver automatiquement quel est le prochain identifiant disponible (un peu comme une clé primaire dont la valeur est calculées automatiquement par le SGDBR avec [SERIAL](https://www.postgresql.org/docs/9.6/datatype-numeric.html#DATATYPE-SERIAL) par exemple). On peut utiliser un ensemble ordonné `TreeSet<Integer>` des identifiants déjà utilisés.\n",
    "\n",
    "Comme vu précédement, l'ensemble des étudiants peut être stocké dans une seule collection ou dans une collection par promotion, cette collection pouvant être une `List<Student>`, un `Set<Student>` ou même une `Map<Student, Student>` :\n",
    "  * avec une `List<Student>`, les étudiants seront dans l'ordre de création,\n",
    "  * avec un `HashSet<Student>` ou une `HashMap<Student,Student>` les étudiants sont dans un ordre \"indéterminé\"\n",
    "  * avec un `TreeSet<Student>` ou une `TreeMap<Student, Student>` les étudiants sont dans l'ordre que l'on veut, qu'il faut alors définir par exemple en implémentant l'interface [Comparable<Student>](https://docs.oracle.com/javase/9/docs/api/java/lang/Comparable.html)\n",
    "    \n",
    "\n",
    "La qualité des implémentation étant déterminée selon au moins deux dimensions, la simplicité et la performance, il peut y avoir plusieurs bonnes solutions correspondant à différents compromis.\n",
    "Parmi toutes les implémentations possibles, trois sont données en exemple."
   ]
  },
  {
   "cell_type": "code",
   "execution_count": 9,
   "metadata": {},
   "outputs": [
    {
     "data": {
      "text/plain": [
       "com.twosigma.beaker.javash.bkrc0547989.Student"
      ]
     },
     "execution_count": 9,
     "metadata": {},
     "output_type": "execute_result"
    }
   ],
   "source": [
    "import java.util.Set;\n",
    "import java.util.SortedSet;\n",
    "import java.util.TreeSet;\n",
    "import java.util.List;\n",
    "import java.util.ArrayList;\n",
    "import java.util.Map;\n",
    "import java.util.TreeMap;\n",
    "\n",
    "public class Student{\n",
    "    private int id;\n",
    "    private String firstname;\n",
    "    private String lastname;\n",
    "    private String schoolYear; // la promo\n",
    "    private static SortedSet<Integer> idsInUse= new TreeSet<Integer>();\n",
    "    private static Set<String> schoolYears= new TreeSet<String>();\n",
    "    private static List<Student> students= new ArrayList<Student>();\n",
    "    \n",
    "    public static void createSchoolYear(String schoolYear){\n",
    "        schoolYears.add(schoolYear);\n",
    "    }\n",
    "    public static void remove(Student s){\n",
    "        students.remove(s);\n",
    "        idsInUse.remove(s.id);\n",
    "    }\n",
    "    public Map<String, List<Student> > getStudentsBySchoolYear(){\n",
    "        Map<String, List<Student> > res= new TreeMap<String, List<Student> >();\n",
    "        for(Student s : students){\n",
    "            List<Student> studentsForYear= res.get(s.schoolYear);\n",
    "            if(studentsForYear == null){\n",
    "                studentsForYear= new ArrayList<Student>();\n",
    "                res.put(s.schoolYear, studentsForYear);\n",
    "            }\n",
    "            studentsForYear.add(s);\n",
    "        }\n",
    "        return res;\n",
    "    }\n",
    "    public Student(String firstname, String lastname, String schoolYear) throws IllegalArgumentException{\n",
    "        if(!schoolYears.contains(schoolYear)){\n",
    "            throw new IllegalArgumentException(\"L'année \"+ schoolYear +\" est invalide.\\n\"\n",
    "                                              +\"Les années valides sont : \"+schoolYears);\n",
    "        }\n",
    "        this.id= (idsInUse.isEmpty() ? 0 : idsInUse.last())+1;\n",
    "        idsInUse.add(this.id);\n",
    "        this.firstname= firstname;\n",
    "        this.lastname= lastname;\n",
    "        this.schoolYear= schoolYear;\n",
    "        students.add(this);\n",
    "    }\n",
    "    public int getId(){\n",
    "        return id;\n",
    "    }\n",
    "    // setId n'est sans doute pas une bonne idée : autant recréer une nouvelle instance\n",
    "    public String getFirstname(){\n",
    "        return firstname;\n",
    "    }\n",
    "    public void setFirstname(String firstname){\n",
    "        this.firstname= firstname;\n",
    "    }\n",
    "    public String getLastname(){\n",
    "        return lastname;\n",
    "    }\n",
    "    public void setLastname(String lastname){\n",
    "        this.lastname= lastname;\n",
    "    }\n",
    "    public String getSchoolYear(){\n",
    "        return schoolYear;\n",
    "    }\n",
    "    public void setSchoolYear(String schoolYear){\n",
    "        this.schoolYear= schoolYear;\n",
    "    }\n",
    "    \n",
    "    @Override\n",
    "    public boolean equals(Object o){\n",
    "        if(! (o instanceof Student)){\n",
    "            return false;\n",
    "        }\n",
    "        return ((Student) o).id == id;\n",
    "    }\n",
    "    @Override\n",
    "    public int hashCode(){\n",
    "        return id;\n",
    "    }\n",
    "    @Override\n",
    "    public String toString(){\n",
    "        return \"Student: { id: \"+ id +\", firstname: \"+ firstname +\", lastname: \"+ lastname + \"}\";\n",
    "    }\n",
    "}"
   ]
  },
  {
   "cell_type": "code",
   "execution_count": 11,
   "metadata": {},
   "outputs": [
    {
     "data": {
      "text/plain": [
       "com.twosigma.beaker.javash.bkrc0547989.Student"
      ]
     },
     "execution_count": 11,
     "metadata": {},
     "output_type": "execute_result"
    }
   ],
   "source": [
    "import java.util.Set;\n",
    "import java.util.SortedSet;\n",
    "import java.util.TreeSet;\n",
    "import java.util.List;\n",
    "import java.util.ArrayList;\n",
    "import java.util.Map;\n",
    "import java.util.TreeMap;\n",
    "\n",
    "public class Student implements Comparable<Student> {\n",
    "    private int id;\n",
    "    private String firstname;\n",
    "    private String lastname;\n",
    "    private String schoolYear; // la promo\n",
    "    private static Set<String> schoolYears= new TreeSet<String>();\n",
    "    private static TreeSet<Student> students= new TreeSet<Student>();\n",
    "    \n",
    "    public static void createSchoolYear(String schoolYear){\n",
    "        schoolYears.add(schoolYear);\n",
    "    }\n",
    "    public static void remove(Student s){\n",
    "        students.remove(s);\n",
    "    }\n",
    "    public Map<String, List<Student> > getStudentsBySchoolYear(){\n",
    "        Map<String, List<Student> > res= new TreeMap<String, List<Student> >();\n",
    "        for(Student s : students){\n",
    "            List<Student> studentsForYear= res.get(s.schoolYear);\n",
    "            if(studentsForYear == null){\n",
    "                studentsForYear= new ArrayList<Student>();\n",
    "                res.put(s.schoolYear, studentsForYear);\n",
    "            }\n",
    "            studentsForYear.add(s);\n",
    "        }\n",
    "        return res;\n",
    "    }\n",
    "    public Student(String firstname, String lastname, String schoolYear) throws IllegalArgumentException{\n",
    "        if(!schoolYears.contains(schoolYear)){\n",
    "            throw new IllegalArgumentException(\"L'année \"+ schoolYear +\" est invalide.\\n\"\n",
    "                                              +\"Les années valides sont : \"+schoolYears);\n",
    "        }\n",
    "        this.id= (students.isEmpty() ? 0 : students.last().id)+1;\n",
    "        this.firstname= firstname;\n",
    "        this.lastname= lastname;\n",
    "        this.schoolYear= schoolYear;\n",
    "        students.add(this);\n",
    "    }\n",
    "    public int getId(){\n",
    "        return id;\n",
    "    }\n",
    "    // setId n'est sans doute pas une bonne idée : autant recréer une nouvelle instance\n",
    "    public String getFirstname(){\n",
    "        return firstname;\n",
    "    }\n",
    "    public void setFirstname(String firstname){\n",
    "        this.firstname= firstname;\n",
    "    }\n",
    "    public String getLastname(){\n",
    "        return lastname;\n",
    "    }\n",
    "    public void setLastname(String lastname){\n",
    "        this.lastname= lastname;\n",
    "    }\n",
    "    public String getSchoolYear(){\n",
    "        return schoolYear;\n",
    "    }\n",
    "    public void setSchoolYear(String schoolYear){\n",
    "        this.schoolYear= schoolYear;\n",
    "    }\n",
    "    \n",
    "    @Override\n",
    "    public boolean equals(Object o){\n",
    "        if(! (o instanceof Student)){\n",
    "            return false;\n",
    "        }\n",
    "        return ((Student) o).id == id;\n",
    "    }\n",
    "    @Override\n",
    "    public int hashCode(){\n",
    "        return id;\n",
    "    }\n",
    "    @Override\n",
    "    public int compareTo(Student other){\n",
    "        return id - other.id;\n",
    "    }\n",
    "    @Override\n",
    "    public String toString(){\n",
    "        return \"Student: { id: \"+ id +\", firstname: \"+ firstname +\", lastname: \"+ lastname + \"}\";\n",
    "    }\n",
    "}"
   ]
  },
  {
   "cell_type": "code",
   "execution_count": 12,
   "metadata": {},
   "outputs": [
    {
     "data": {
      "text/plain": [
       "com.twosigma.beaker.javash.bkrc0547989.Student"
      ]
     },
     "execution_count": 12,
     "metadata": {},
     "output_type": "execute_result"
    }
   ],
   "source": [
    "\n",
    "public class Student{\n",
    "    private int id;\n",
    "    private String firstname;\n",
    "    private String lastname;\n",
    "    // on pourrait ajouter la promotion mais ce n'est pas nécessaire ici si l'on utilise une map pour les stocker\n",
    "    public Student(int id, String firstname, String lastname) throws IllegalArgumentException{\n",
    "        if(id <= 0){\n",
    "            throw new IllegalArgumentException(\"l'identifiant doit être strictement positif :\"+id+\" est invalide.\");\n",
    "        }\n",
    "        this.id= id;\n",
    "        this.firstname= firstname;\n",
    "        this.lastname= lastname;\n",
    "    }\n",
    "    public Student(int id) throws IllegalArgumentException{\n",
    "        this(id, \"tmp firstname\",\"tmp lastname\");\n",
    "    }\n",
    "        \n",
    "    public int getId(){\n",
    "        return id;\n",
    "    }\n",
    "    // setId n'est sans doute pas une bonne idée : autant recréer une nouvelle instance\n",
    "    public String getFirstname(){\n",
    "        return firstname;\n",
    "    }\n",
    "    public void setFirstname(String firstname){\n",
    "        this.firstname= firstname;\n",
    "    }\n",
    "    public String getLastname(){\n",
    "        return lastname;\n",
    "    }\n",
    "    public void setLastname(String lastname){\n",
    "        this.lastname= lastname;\n",
    "    }\n",
    "    public void updateFrom(Student s){\n",
    "        if(id != s.id){\n",
    "            throw new IllegalArgumentException(\"trying to update \"+ this + \" from \"+ s + \"with a different id !\");\n",
    "        }\n",
    "        firstname= s.firstname;\n",
    "        lastname= s.lastname;\n",
    "    }\n",
    "    @Override\n",
    "    public boolean equals(Object o){\n",
    "        if(! (o instanceof Student)){\n",
    "            return false;\n",
    "        }\n",
    "        return ((Student) o).id == id;\n",
    "    }\n",
    "    @Override\n",
    "    public int hashCode(){\n",
    "        return id;\n",
    "    }\n",
    "    @Override\n",
    "    public String toString(){\n",
    "        return \"Student: { id: \"+ id +\", firstname: \"+ firstname +\", lastname: \"+ lastname + \"}\";\n",
    "    }\n",
    "}"
   ]
  },
  {
   "cell_type": "code",
   "execution_count": 13,
   "metadata": {},
   "outputs": [
    {
     "data": {
      "text/plain": [
       "com.twosigma.beaker.javash.bkrc0547989.Tp5Q6"
      ]
     },
     "execution_count": 13,
     "metadata": {},
     "output_type": "execute_result"
    }
   ],
   "source": [
    "import java.util.Scanner;\n",
    "import java.util.Map;\n",
    "import java.util.Map.Entry;\n",
    "import java.util.HashMap;\n",
    "\n",
    "public class Tp5Q6 {\n",
    "    public static boolean inputYesOrNo(String msg, String yesString, String noString){\n",
    "        String answer= \"\";\n",
    "        while(!(answer.equalsIgnoreCase(yesString) || answer.equalsIgnoreCase(noString))){\n",
    "                System.out.println(msg + \"(\"+yesString + \"/\"+ noString +\")\");\n",
    "                answer= Tp5Q2.sc.nextLine().trim();\n",
    "        }\n",
    "        return answer.equalsIgnoreCase(yesString);\n",
    "    }\n",
    "    public static String getPromoAndUpdateStudent(Map<String, Map<Student, Student> > promoToStudents, Student toUpdate){\n",
    "        String res= null;\n",
    "        for(Map.Entry<String, Map<Student,Student> > e : promoToStudents.entrySet()){\n",
    "            Student stored= e.getValue().get(toUpdate);\n",
    "            if(stored != null){\n",
    "                toUpdate.updateFrom(stored);\n",
    "                res= e.getKey();\n",
    "                break;\n",
    "            }\n",
    "        }\n",
    "        return res;\n",
    "    }\n",
    "    public static boolean inputStudent(Map<String, Map<Student, Student> > promoToStudents){\n",
    "        int id= -1;\n",
    "        while(id <=0 ){\n",
    "            id= Tp5Q2.inputInteger(\"Entrez l'identifiant de l'étudiant:\");\n",
    "            if(id <= 0){\n",
    "                System.err.println(\"L'identifiant doit être un entire strictement positif\");\n",
    "            }\n",
    "        }\n",
    "        Student s= new Student(id);\n",
    "        String previousPromoOrNull= getPromoAndUpdateStudent(promoToStudents, s);// utiliser plutôt java.util.Optional\n",
    "        if(previousPromoOrNull != null){\n",
    "            if(!inputYesOrNo(\"l'étudiant \"+ s + \" existe déjà dans la promotion \"+ previousPromoOrNull +\". Voulez-vous le mettre à jour ?\"\n",
    "                            ,\"o\",\"n\")){\n",
    "                return false;\n",
    "            }\n",
    "        }\n",
    "        System.out.println(\"Entrez le prénom et le nom de l'étudiant, puis la promotion\");\n",
    "        s.setFirstname(Tp5Q2.sc.next().trim());\n",
    "        s.setLastname(Tp5Q2.sc.next().trim());\n",
    "        String promo= \"\";\n",
    "        boolean hasToGetPromo= true;\n",
    "        while(hasToGetPromo){\n",
    "            promo= Tp5Q2.sc.next();\n",
    "            if(!promoToStudents.containsKey(promo)){\n",
    "                boolean createPromo= inputYesOrNo(\"La promotion \"+promo+\" n'existe pas, voulez-vous la créer ?\",\"o\",\"n\");\n",
    "                if(createPromo){\n",
    "                    // pour afficher les étudiants par ordre alphabétique, il faudrait utiliser une TreeMap et un Comparator selon lastname\n",
    "                    promoToStudents.put(promo,new HashMap<Student, Student>());\n",
    "                    hasToGetPromo= false;\n",
    "                }else{\n",
    "                    System.out.println(\"Saisissez à nouveau le nom de la promotion.\");\n",
    "                    hasToGetPromo= true;\n",
    "                }\n",
    "            }else{\n",
    "                hasToGetPromo= false;\n",
    "            }\n",
    "        }\n",
    "        if(previousPromoOrNull != null && !previousPromoOrNull.equals(promo)){\n",
    "            promoToStudents.get(previousPromoOrNull).remove(s);\n",
    "        }\n",
    "        promoToStudents.get(promo).put(s,s);\n",
    "        return true;\n",
    "    }\n",
    "    public static boolean removeStudent(Map<String, Map<Student, Student> > promoToStudents, int id){\n",
    "        Student s= new Student(id);\n",
    "        String previousPromoOrNull= getPromoAndUpdateStudent(promoToStudents, s);\n",
    "        if(previousPromoOrNull == null){\n",
    "            System.out.println(\"Il n'y avait pas d'étudiant avec l'identifiant \"+ id);\n",
    "            return false;\n",
    "        }else{\n",
    "            System.out.println(\"Il n'y avait pas l'étudiant \"+ s + \" a été supprimé de la promo \"+ previousPromoOrNull);\n",
    "            return true;\n",
    "        }\n",
    "    }\n",
    "    // Les promos sont affichées dans l'ordre alphabétique si et seulement si promoToStudent est une TreeMap\n",
    "    public static void printPromos(Map<String, Map<Student, Student> > promoToStudents){\n",
    "        for(Map.Entry<String, Map<Student, Student> > e : promoToStudents.entrySet()){\n",
    "            System.out.println(\"Promo \"+e.getKey()+\" : \");\n",
    "            for(Student s : promoToStudents.get(e.getKey()).keySet()){\n",
    "                System.out.println(s);\n",
    "            }\n",
    "            System.out.println();\n",
    "        }\n",
    "    }\n",
    "}"
   ]
  },
  {
   "cell_type": "markdown",
   "metadata": {},
   "source": [
    "## Using the classpath to load a jar"
   ]
  },
  {
   "cell_type": "code",
   "execution_count": 14,
   "metadata": {},
   "outputs": [
    {
     "data": {
      "application/vnd.jupyter.widget-view+json": {
       "model_id": "",
       "version_major": 2,
       "version_minor": 0
      },
      "method": "display_data"
     },
     "metadata": {},
     "output_type": "display_data"
    },
    {
     "data": {
      "application/vnd.jupyter.widget-view+json": {
       "model_id": "5c2f0a1d-74e5-439e-af4b-bfc1c13fef1c",
       "version_major": 2,
       "version_minor": 0
      },
      "method": "display_data"
     },
     "metadata": {},
     "output_type": "display_data"
    }
   ],
   "source": [
    "%classpath add mvn com.googlecode.princeton-java-introduction stdlib 1.0.1"
   ]
  },
  {
   "cell_type": "code",
   "execution_count": 20,
   "metadata": {},
   "outputs": [
    {
     "ename": "ERROR",
     "evalue": " java.lang.NoClassDefFoundError",
     "output_type": "error",
     "traceback": [
      "\u001b[1;31mERROR: java.lang.NoClassDefFoundError: Could not initialize class edu.princeton.cs.introcs.StdDraw\u001b[0;0m"
     ]
    }
   ],
   "source": [
    "import edu.princeton.cs.introcs.StdDraw;\n",
    "System.setProperty(\"java.awt.headless\", \"true\");\n",
    "StdDraw.show();"
   ]
  },
  {
   "cell_type": "code",
   "execution_count": null,
   "metadata": {},
   "outputs": [],
   "source": [
    "import com.beaker.BeakerXClasspathTest;\n",
    "\n",
    "BeakerXClasspathTest t = new BeakerXClasspathTest();\n",
    "System.out.println(com.beaker.BeakerXClasspathTest.staticTest);\n",
    "System.out.println(t.getObjectTest());"
   ]
  }
 ],
 "metadata": {
  "beakerx_kernel_parameters": {},
  "kernelspec": {
   "display_name": "Java",
   "language": "java",
   "name": "java"
  },
  "language_info": {
   "codemirror_mode": "text/x-java",
   "file_extension": ".java",
   "mimetype": "",
   "name": "Java",
   "nbconverter_exporter": "",
   "version": "11.0.1"
  },
  "toc": {
   "base_numbering": 1,
   "nav_menu": {},
   "number_sections": false,
   "sideBar": false,
   "skip_h1_title": false,
   "title_cell": "Table of Contents",
   "title_sidebar": "Contents",
   "toc_cell": false,
   "toc_position": {},
   "toc_section_display": false,
   "toc_window_display": false
  }
 },
 "nbformat": 4,
 "nbformat_minor": 2
}
