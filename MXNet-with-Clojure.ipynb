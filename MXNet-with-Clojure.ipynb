{
 "cells": [
  {
   "cell_type": "markdown",
   "metadata": {},
   "source": [
    "# Trying to use MXNet woth clojure on hosted Notebook\n",
    "\n"
   ]
  },
  {
   "cell_type": "code",
   "execution_count": 1,
   "metadata": {},
   "outputs": [
    {
     "name": "stdout",
     "output_type": "stream",
     "text": [
      "Added new repo: snapshots\n",
      "Added new repo: vendredi\n",
      "Added new repo: staging\n"
     ]
    }
   ],
   "source": [
    "%classpath config resolver snapshots https://repository.apache.org/content/repositories/snapshots\n",
    "%classpath config resolver vendredi https://repository.hellonico.info/repository/hellonico/\n",
    "%classpath config resolver staging https://repository.apache.org/content/repositories/staging"
   ]
  },
  {
   "cell_type": "code",
   "execution_count": 2,
   "metadata": {},
   "outputs": [
    {
     "data": {
      "application/vnd.jupyter.widget-view+json": {
       "model_id": "",
       "version_major": 2,
       "version_minor": 0
      },
      "method": "display_data"
     },
     "metadata": {},
     "output_type": "display_data"
    },
    {
     "data": {
      "application/vnd.jupyter.widget-view+json": {
       "model_id": "09671f35-83bc-4fd1-b603-e4f5f4940a91",
       "version_major": 2,
       "version_minor": 0
      },
      "method": "display_data"
     },
     "metadata": {},
     "output_type": "display_data"
    },
    {
     "data": {
      "application/vnd.jupyter.widget-view+json": {
       "model_id": "",
       "version_major": 2,
       "version_minor": 0
      },
      "method": "display_data"
     },
     "metadata": {},
     "output_type": "display_data"
    },
    {
     "data": {
      "application/vnd.jupyter.widget-view+json": {
       "model_id": "6598175d-d798-4238-9909-fd127de25cee",
       "version_major": 2,
       "version_minor": 0
      },
      "method": "display_data"
     },
     "metadata": {},
     "output_type": "display_data"
    }
   ],
   "source": [
    "%classpath add mvn org.apache.mxnet.contrib.clojure clojure-mxnet-linux-cpu 1.4.0\n",
    "%classpath add mvn origami origami 4.0.0-7"
   ]
  },
  {
   "cell_type": "code",
   "execution_count": 3,
   "metadata": {},
   "outputs": [
    {
     "data": {
      "text/plain": [
       "class java.awt.image.DataBufferByte"
      ]
     },
     "execution_count": 3,
     "metadata": {},
     "output_type": "execute_result"
    }
   ],
   "source": [
    "(require '[clojure.java.io :as io])\n",
    "\n",
    ";; MXNet namespaces\n",
    "(require '[org.apache.clojure-mxnet.image :as mx-img])\n",
    "(require '[org.apache.clojure-mxnet.ndarray :as ndarray])\n",
    "(require '[org.apache.clojure-mxnet.shape :as mx-shape])\n",
    "\n",
    ";; OpenCV namespaces\n",
    "(require '[opencv4.colors.rgb :as rgb])\n",
    "(require '[opencv4.mxnet :as mx-cv])\n",
    "(require '[opencv4.core :as cv])\n",
    "(require '[opencv4.utils :as cvu])\n",
    "\n",
    "(import org.opencv.core.Mat)\n",
    "(import java.awt.image.DataBufferByte)"
   ]
  },
  {
   "cell_type": "code",
   "execution_count": 4,
   "metadata": {},
   "outputs": [
    {
     "data": {
      "text/plain": [
       "#'beaker_clojure_shell_130355d5-3a4d-45b3-b4dd-681b29f5432e/download!"
      ]
     },
     "execution_count": 4,
     "metadata": {},
     "output_type": "execute_result"
    }
   ],
   "source": [
    "(defn download!\n",
    "  \"Download `uri` and store it in `filename` on disk\"\n",
    "  [uri filename]\n",
    "  (with-open [in (io/input-stream uri)\n",
    "              out (io/output-stream filename)]\n",
    "    (io/make-parents filename)\n",
    "    (io/copy in out)))"
   ]
  },
  {
   "cell_type": "code",
   "execution_count": 5,
   "metadata": {},
   "outputs": [
    {
     "data": {
      "text/plain": [
       "null"
      ]
     },
     "execution_count": 5,
     "metadata": {},
     "output_type": "execute_result"
    }
   ],
   "source": [
    ";; Download a cat image from a `uri` and save it into `images/cat.jpg`\n",
    "(download! \"https://raw.githubusercontent.com/dmlc/web-data/master/mxnet/doc/tutorials/python/predict_image/cat.jpg\" \"images/cat.jpg\")\n",
    "\n",
    ";; Download a dog image from a `uri` and save it into `images/dog.jpg`\n",
    "(download! \"https://github.com/dmlc/web-data/blob/master/mxnet/doc/tutorials/python/predict_image/dog.jpg?raw=true\" \"images/dog.jpg\")"
   ]
  },
  {
   "cell_type": "markdown",
   "metadata": {},
   "source": [
    "![](images/cat.jpg)\n",
    "![](images/dog.jpg)"
   ]
  },
  {
   "cell_type": "code",
   "execution_count": 6,
   "metadata": {},
   "outputs": [
    {
     "data": {
      "text/plain": [
       "true"
      ]
     },
     "execution_count": 6,
     "metadata": {},
     "output_type": "execute_result"
    }
   ],
   "source": [
    "(-> \"images/dog.jpg\"\n",
    "    ;; Convert filename to NDArray\n",
    "    (mx-img/read-image {:to-rgb true}) ;; option :to-rgb, true by default\n",
    "    ;; Resizing image to height = 400, width = 400\n",
    "    (mx-img/resize-image 400 400)\n",
    "    ;; Convert to BufferedImage\n",
    "    (mx-img/to-image)\n",
    "    ;; Saving BufferedImage to disk\n",
    "    (javax.imageio.ImageIO/write \"jpg\" (java.io.File. \"test2.jpg\")))"
   ]
  },
  {
   "cell_type": "code",
   "execution_count": 7,
   "metadata": {},
   "outputs": [
    {
     "data": {
      "text/plain": [
       "#'beaker_clojure_shell_130355d5-3a4d-45b3-b4dd-681b29f5432e/ndarray->mat"
      ]
     },
     "execution_count": 7,
     "metadata": {},
     "output_type": "execute_result"
    }
   ],
   "source": [
    "(defn mat->ndarray\n",
    "  \"Convert a `mat` from OpenCV to an MXNet `ndarray`\"\n",
    "  [mat]\n",
    "  (let [h (.height mat)\n",
    "        w (.width mat)\n",
    "        c (.channels mat)]\n",
    "    (-> mat\n",
    "        cvu/mat->flat-rgb-array\n",
    "        (ndarray/array [c h w]))))\n",
    "\n",
    "(defn ndarray->mat\n",
    "  \"Convert a `ndarray` to an OpenCV `mat`\"\n",
    "  [ndarray]\n",
    "  (let [shape (mx-shape/->vec ndarray)\n",
    "        [h w _ _] (mx-shape/->vec (ndarray/shape ndarray))\n",
    "        bytes (byte-array shape)\n",
    "        mat (cv/new-mat h w cv/CV_8UC3)]\n",
    "    (.put mat 0 0 bytes)\n",
    "    mat))"
   ]
  },
  {
   "cell_type": "code",
   "execution_count": 8,
   "metadata": {},
   "outputs": [
    {
     "data": {
      "text/plain": [
       "#'beaker_clojure_shell_130355d5-3a4d-45b3-b4dd-681b29f5432e/filename->ndarray!"
      ]
     },
     "execution_count": 8,
     "metadata": {},
     "output_type": "execute_result"
    }
   ],
   "source": [
    "(defn filename->ndarray!\n",
    "  \"Convert an image stored on disk `filename` into an `ndarray`\n",
    "\n",
    "  `filename`: string representing the image on disk\n",
    "  `shape-vec`: is the actual shape of the returned `ndarray`\n",
    "   return: ndarray\"\n",
    "  [filename shape-vec]\n",
    "  (-> filename\n",
    "      (cv/imread)\n",
    "      (mat->ndarray)))"
   ]
  },
  {
   "cell_type": "code",
   "execution_count": 9,
   "metadata": {},
   "outputs": [
    {
     "data": {
      "text/plain": [
       "#'beaker_clojure_shell_130355d5-3a4d-45b3-b4dd-681b29f5432e/draw-bounding-box!"
      ]
     },
     "execution_count": 9,
     "metadata": {},
     "output_type": "execute_result"
    }
   ],
   "source": [
    "(defn draw-bounding-box!\n",
    "  \"Draw bounding box on `img` given the `top-left` and `bottom-right` coordonates.\n",
    "  Add `label` when provided.\n",
    "  returns: nil\"\n",
    "  [img {:keys [label top-left bottom-right]}]\n",
    "  (let [[x0 y0] top-left\n",
    "        [x1 y1] bottom-right\n",
    "        top-left-point (cv/new-point x0 y0)\n",
    "        bottom-right-point (cv/new-point x1 y1)]\n",
    "    (cv/rectangle img top-left-point bottom-right-point rgb/white 1)\n",
    "    (when label\n",
    "      (cv/put-text! img label top-left-point cv/FONT_HERSHEY_DUPLEX 1.0 rgb/white 1))))\n"
   ]
  },
  {
   "cell_type": "code",
   "execution_count": 10,
   "metadata": {},
   "outputs": [
    {
     "data": {
      "text/plain": [
       "#'beaker_clojure_shell_130355d5-3a4d-45b3-b4dd-681b29f5432e/draw-predictions!"
      ]
     },
     "execution_count": 10,
     "metadata": {},
     "output_type": "execute_result"
    }
   ],
   "source": [
    "(defn draw-predictions!\n",
    "    \"Draw all predictions on an `img` passing `results` which is a collection\n",
    "     of bounding boxes data.\n",
    "     returns: nil\"\n",
    "    [img results]\n",
    "    (doseq [{:keys [label top-left bottom-right] :as result} results]\n",
    "      (draw-bounding-box! img result)))"
   ]
  },
  {
   "cell_type": "code",
   "execution_count": null,
   "metadata": {},
   "outputs": [],
   "source": []
  },
  {
   "cell_type": "code",
   "execution_count": null,
   "metadata": {},
   "outputs": [],
   "source": []
  },
  {
   "cell_type": "code",
   "execution_count": 2,
   "metadata": {
    "scrolled": true
   },
   "outputs": [
    {
     "ename": "java.io.FileNotFoundException",
     "evalue": " Could not locate org/apache/clojure_mxnet/module__init.class or org/apache/clojure_mxnet/module.clj on classpath. Please check that namespaces with dashes use underscores in the Clojure file name.",
     "output_type": "error",
     "traceback": [
      "\u001b[1;31mjava.io.FileNotFoundException: Could not locate org/apache/clojure_mxnet/module__init.class or org/apache/clojure_mxnet/module.clj on classpath. Please check that namespaces with dashes use underscores in the Clojure file name.\u001b[0;0m",
      "\u001b[1;31m\tat clojure.lang.RT.load(RT.java:463)\u001b[0;0m",
      "\u001b[1;31m\tat clojure.lang.RT.load(RT.java:426)\u001b[0;0m",
      "\u001b[1;31m\tat clojure.core$load$fn__6548.invoke(core.clj:6046)\u001b[0;0m",
      "\u001b[1;31m\tat clojure.core$load.invokeStatic(core.clj:6045)\u001b[0;0m",
      "\u001b[1;31m\tat clojure.core$load.doInvoke(core.clj:6029)\u001b[0;0m",
      "\u001b[1;31m\tat clojure.lang.RestFn.invoke(RestFn.java:408)\u001b[0;0m",
      "\u001b[1;31m\tat clojure.core$load_one.invokeStatic(core.clj:5848)\u001b[0;0m",
      "\u001b[1;31m\tat clojure.core$load_one.invoke(core.clj:5843)\u001b[0;0m",
      "\u001b[1;31m\tat clojure.core$load_lib$fn__6493.invoke(core.clj:5888)\u001b[0;0m",
      "\u001b[1;31m\tat clojure.core$load_lib.invokeStatic(core.clj:5887)\u001b[0;0m",
      "\u001b[1;31m\tat clojure.core$load_lib.doInvoke(core.clj:5868)\u001b[0;0m",
      "\u001b[1;31m\tat clojure.lang.RestFn.applyTo(RestFn.java:142)\u001b[0;0m",
      "\u001b[1;31m\tat clojure.core$apply.invokeStatic(core.clj:659)\u001b[0;0m",
      "\u001b[1;31m\tat clojure.core$load_libs.invokeStatic(core.clj:5925)\u001b[0;0m",
      "\u001b[1;31m\tat clojure.core$load_libs.doInvoke(core.clj:5909)\u001b[0;0m",
      "\u001b[1;31m\tat clojure.lang.RestFn.applyTo(RestFn.java:137)\u001b[0;0m",
      "\u001b[1;31m\tat clojure.core$apply.invokeStatic(core.clj:659)\u001b[0;0m",
      "\u001b[1;31m\tat clojure.core$require.invokeStatic(core.clj:5947)\u001b[0;0m",
      "\u001b[1;31m\tat clojure.core$require.doInvoke(core.clj:5947)\u001b[0;0m",
      "\u001b[1;31m\tat clojure.lang.RestFn.invoke(RestFn.java:408)\u001b[0;0m",
      "\u001b[1;31m\tat beaker_clojure_shell_a443d272_058c_4787_9d4d_a0e0eb8d09ba$eval161.invokeStatic(Unknown Source)\u001b[0;0m",
      "\u001b[1;31m\tat beaker_clojure_shell_a443d272_058c_4787_9d4d_a0e0eb8d09ba$eval161.invoke(Unknown Source)\u001b[0;0m",
      "\u001b[1;31m\tat clojure.lang.Compiler.eval(Compiler.java:7062)\u001b[0;0m",
      "\u001b[1;31m\tat clojure.lang.Compiler.load(Compiler.java:7514)\u001b[0;0m",
      "\u001b[1;31m\tat clojure.lang.Compiler.load(Compiler.java:7461)\u001b[0;0m",
      "\u001b[1;31m\tat clojure.core$load_reader.invokeStatic(core.clj:4053)\u001b[0;0m",
      "\u001b[1;31m\tat clojure.core$load_string.invokeStatic(core.clj:4055)\u001b[0;0m",
      "\u001b[1;31m\tat clojure.core$load_string.invoke(core.clj:4055)\u001b[0;0m",
      "\u001b[1;31m\tat beaker_clojure_shell_a443d272_058c_4787_9d4d_a0e0eb8d09ba$run_str_a443d272_058c_4787_9d4d_a0e0eb8d09ba.invokeStatic(Unknown Source)\u001b[0;0m",
      "\u001b[1;31m\tat beaker_clojure_shell_a443d272_058c_4787_9d4d_a0e0eb8d09ba$run_str_a443d272_058c_4787_9d4d_a0e0eb8d09ba.invoke(Unknown Source)\u001b[0;0m",
      "\u001b[1;31m\tat clojure.lang.Var.invoke(Var.java:381)\u001b[0;0m",
      "\u001b[0;31m\tat com.twosigma.beakerx.clojure.evaluator.ClojureEvaluator.runCode(ClojureEvaluator.java:164)\u001b[0;0m",
      "\u001b[0;31m\tat com.twosigma.beakerx.clojure.evaluator.ClojureCodeRunner.call(ClojureCodeRunner.java:47)\u001b[0;0m",
      "\u001b[0;31m\tat com.twosigma.beakerx.clojure.evaluator.ClojureCodeRunner.call(ClojureCodeRunner.java:28)\u001b[0;0m",
      "\u001b[0;31m\tat java.util.concurrent.FutureTask.run(FutureTask.java:266)\u001b[0;0m",
      "\u001b[0;31m\tat java.util.concurrent.ThreadPoolExecutor.runWorker(ThreadPoolExecutor.java:1142)\u001b[0;0m",
      "\u001b[0;31m\tat java.util.concurrent.ThreadPoolExecutor$Worker.run(ThreadPoolExecutor.java:617)\u001b[0;0m",
      "\u001b[0;31m\tat java.lang.Thread.run(Thread.java:745)\u001b[0;0m"
     ]
    }
   ],
   "source": [
    "(require '[clojure.string :as string])\n",
    ";; MXNet namespaces\n",
    "(require '[org.apache.clojure-mxnet.module :as m])\n",
    "(require '[org.apache.clojure-mxnet.ndarray :as ndarray])\n",
    "\n",
    ";; OpenCV namespaces\n",
    "(require '[opencv4.core :as cv])\n",
    "(require '[opencv4.utils :as cvu])"
   ]
  },
  {
   "cell_type": "code",
   "execution_count": 12,
   "metadata": {},
   "outputs": [
    {
     "data": {
      "text/plain": [
       "null"
      ]
     },
     "execution_count": 12,
     "metadata": {},
     "output_type": "execute_result"
    }
   ],
   "source": [
    "(require '[org.apache.clojure-mxnet.dtype :as d])"
   ]
  },
  {
   "cell_type": "code",
   "execution_count": 13,
   "metadata": {},
   "outputs": [
    {
     "data": {
      "text/plain": [
       "#'beaker_clojure_shell_130355d5-3a4d-45b3-b4dd-681b29f5432e/inception-mod"
      ]
     },
     "execution_count": 13,
     "metadata": {},
     "output_type": "execute_result"
    }
   ],
   "source": [
    "(def model-dir \"model/\")\n",
    "(def h 224) ;; Image height\n",
    "(def w 224) ;; Image width\n",
    "(def c 3)   ;; Number of channels: Red, Green, Blue\n",
    "(defonce vgg-16-mod\n",
    "  (-> {:prefix (str model-dir \"vgg16\") :epoch 0}\n",
    "      (m/load-checkpoint)\n",
    "      ;; Define the shape of input data and bind the name of the input layer\n",
    "      ;; to \"data\"\n",
    "      (m/bind {:for-training false\n",
    "               :data-shapes [{:name \"data\" :shape [1 c h w]}]})))\n",
    "(defonce inception-mod\n",
    "  (-> {:prefix (str model-dir \"Inception-BN\") :epoch 0}\n",
    "      (m/load-checkpoint)\n",
    "      ;; Define the shape of input data and bind the name of the input layer\n",
    "      ;; to \"data\"\n",
    "      (m/bind {:for-training false\n",
    "               :data-shapes [{:name \"data\" :shape [1 c h w]}]})))"
   ]
  },
  {
   "cell_type": "code",
   "execution_count": 1,
   "metadata": {},
   "outputs": [
    {
     "ename": "java.lang.RuntimeException",
     "evalue": " No such namespace",
     "output_type": "error",
     "traceback": [
      "\u001b[1;31mjava.lang.RuntimeException: No such namespace: string\u001b[0;0m",
      "\u001b[1;31m\tat clojure.lang.Util.runtimeException(Util.java:221)\u001b[0;0m",
      "\u001b[1;31m\tat clojure.lang.Compiler.resolveIn(Compiler.java:7269)\u001b[0;0m",
      "\u001b[1;31m\tat clojure.lang.Compiler.resolve(Compiler.java:7243)\u001b[0;0m",
      "\u001b[1;31m\tat clojure.lang.Compiler.analyzeSymbol(Compiler.java:7204)\u001b[0;0m",
      "\u001b[1;31m\tat clojure.lang.Compiler.analyze(Compiler.java:6752)\u001b[0;0m",
      "\u001b[1;31m\tat clojure.lang.Compiler.analyze(Compiler.java:6729)\u001b[0;0m",
      "\u001b[1;31m\tat clojure.lang.Compiler$InvokeExpr.parse(Compiler.java:3813)\u001b[0;0m",
      "\u001b[1;31m\tat clojure.lang.Compiler.analyzeSeq(Compiler.java:7005)\u001b[0;0m",
      "\u001b[1;31m\tat clojure.lang.Compiler.analyze(Compiler.java:6773)\u001b[0;0m",
      "\u001b[1;31m\tat clojure.lang.Compiler.analyzeSeq(Compiler.java:6991)\u001b[0;0m",
      "\u001b[1;31m\tat clojure.lang.Compiler.analyze(Compiler.java:6773)\u001b[0;0m",
      "\u001b[1;31m\tat clojure.lang.Compiler.access$300(Compiler.java:38)\u001b[0;0m",
      "\u001b[1;31m\tat clojure.lang.Compiler$DefExpr$Parser.parse(Compiler.java:595)\u001b[0;0m",
      "\u001b[1;31m\tat clojure.lang.Compiler.analyzeSeq(Compiler.java:7003)\u001b[0;0m",
      "\u001b[1;31m\tat clojure.lang.Compiler.analyze(Compiler.java:6773)\u001b[0;0m",
      "\u001b[1;31m\tat clojure.lang.Compiler.analyze(Compiler.java:6729)\u001b[0;0m",
      "\u001b[1;31m\tat clojure.lang.Compiler$BodyExpr$Parser.parse(Compiler.java:6100)\u001b[0;0m",
      "\u001b[1;31m\tat clojure.lang.Compiler.analyzeSeq(Compiler.java:7003)\u001b[0;0m",
      "\u001b[1;31m\tat clojure.lang.Compiler.analyze(Compiler.java:6773)\u001b[0;0m",
      "\u001b[1;31m\tat clojure.lang.Compiler.analyze(Compiler.java:6729)\u001b[0;0m",
      "\u001b[1;31m\tat clojure.lang.Compiler$IfExpr$Parser.parse(Compiler.java:2830)\u001b[0;0m",
      "\u001b[1;31m\tat clojure.lang.Compiler.analyzeSeq(Compiler.java:7003)\u001b[0;0m",
      "\u001b[1;31m\tat clojure.lang.Compiler.analyze(Compiler.java:6773)\u001b[0;0m",
      "\u001b[1;31m\tat clojure.lang.Compiler.analyzeSeq(Compiler.java:6991)\u001b[0;0m",
      "\u001b[1;31m\tat clojure.lang.Compiler.analyze(Compiler.java:6773)\u001b[0;0m",
      "\u001b[1;31m\tat clojure.lang.Compiler.analyze(Compiler.java:6729)\u001b[0;0m",
      "\u001b[1;31m\tat clojure.lang.Compiler$BodyExpr$Parser.parse(Compiler.java:6100)\u001b[0;0m",
      "\u001b[1;31m\tat clojure.lang.Compiler$LetExpr$Parser.parse(Compiler.java:6420)\u001b[0;0m",
      "\u001b[1;31m\tat clojure.lang.Compiler.analyzeSeq(Compiler.java:7003)\u001b[0;0m",
      "\u001b[1;31m\tat clojure.lang.Compiler.analyze(Compiler.java:6773)\u001b[0;0m",
      "\u001b[1;31m\tat clojure.lang.Compiler.analyze(Compiler.java:6729)\u001b[0;0m",
      "\u001b[1;31m\tat clojure.lang.Compiler$BodyExpr$Parser.parse(Compiler.java:6100)\u001b[0;0m",
      "\u001b[1;31m\tat clojure.lang.Compiler$FnMethod.parse(Compiler.java:5460)\u001b[0;0m",
      "\u001b[1;31m\tat clojure.lang.Compiler$FnExpr.parse(Compiler.java:4022)\u001b[0;0m",
      "\u001b[1;31m\tat clojure.lang.Compiler.analyzeSeq(Compiler.java:7001)\u001b[0;0m",
      "\u001b[1;31m\tat clojure.lang.Compiler.analyze(Compiler.java:6773)\u001b[0;0m",
      "\u001b[1;31m\tat clojure.lang.Compiler.eval(Compiler.java:7059)\u001b[0;0m",
      "\u001b[1;31m\tat clojure.lang.Compiler.load(Compiler.java:7514)\u001b[0;0m",
      "\u001b[1;31m\tat clojure.lang.Compiler.load(Compiler.java:7461)\u001b[0;0m",
      "\u001b[1;31m\tat clojure.core$load_reader.invokeStatic(core.clj:4053)\u001b[0;0m",
      "\u001b[1;31m\tat clojure.core$load_string.invokeStatic(core.clj:4055)\u001b[0;0m",
      "\u001b[1;31m\tat clojure.core$load_string.invoke(core.clj:4055)\u001b[0;0m",
      "\u001b[1;31m\tat beaker_clojure_shell_a443d272_058c_4787_9d4d_a0e0eb8d09ba$run_str_a443d272_058c_4787_9d4d_a0e0eb8d09ba.invokeStatic(Unknown Source)\u001b[0;0m",
      "\u001b[1;31m\tat beaker_clojure_shell_a443d272_058c_4787_9d4d_a0e0eb8d09ba$run_str_a443d272_058c_4787_9d4d_a0e0eb8d09ba.invoke(Unknown Source)\u001b[0;0m",
      "\u001b[1;31m\tat clojure.lang.Var.invoke(Var.java:381)\u001b[0;0m",
      "\u001b[0;31m\tat com.twosigma.beakerx.clojure.evaluator.ClojureEvaluator.runCode(ClojureEvaluator.java:164)\u001b[0;0m",
      "\u001b[0;31m\tat com.twosigma.beakerx.clojure.evaluator.ClojureCodeRunner.call(ClojureCodeRunner.java:47)\u001b[0;0m",
      "\u001b[0;31m\tat com.twosigma.beakerx.clojure.evaluator.ClojureCodeRunner.call(ClojureCodeRunner.java:28)\u001b[0;0m",
      "\u001b[0;31m\tat java.util.concurrent.FutureTask.run(FutureTask.java:266)\u001b[0;0m",
      "\u001b[0;31m\tat java.util.concurrent.ThreadPoolExecutor.runWorker(ThreadPoolExecutor.java:1142)\u001b[0;0m",
      "\u001b[0;31m\tat java.util.concurrent.ThreadPoolExecutor$Worker.run(ThreadPoolExecutor.java:617)\u001b[0;0m",
      "\u001b[0;31m\tat java.lang.Thread.run(Thread.java:745)\u001b[0;0m"
     ]
    }
   ],
   "source": [
    "(defonce image-net-labels\n",
    "  (-> (str model-dir \"/synset.txt\")\n",
    "      (slurp)\n",
    "      (string/split #\"\\n\")))\n",
    "\n",
    ";; ImageNet 1000 Labels check\n",
    "(assert (= 1000 (count image-net-labels)))"
   ]
  },
  {
   "cell_type": "code",
   "execution_count": 15,
   "metadata": {},
   "outputs": [
    {
     "data": {
      "text/plain": [
       "#'beaker_clojure_shell_1adc332d-8bd2-42c6-8038-38d33cd15c5d/preprocess-img-mat"
      ]
     },
     "execution_count": 15,
     "metadata": {},
     "output_type": "execute_result"
    }
   ],
   "source": [
    "(defn preprocess-img-mat\n",
    "  \"Preprocessing steps on an `img-mat` from OpenCV to feed into the Model\"\n",
    "  [img-mat]\n",
    "  (-> img-mat\n",
    "      ;; Resize image to (w, h)\n",
    "      (cv/resize! (cv/new-size w h))\n",
    "      ;; Maps pixel values from [-128, 128] to [0, 127]\n",
    "      (cv/convert-to! cv/CV_8SC3 0.5)\n",
    "      ;; Substract mean pixel values from ImageNet dataset\n",
    "      (cv/add! (cv/new-scalar -103.939 -116.779 -123.68))\n",
    "      ;; Flatten matrix\n",
    "      (cvu/mat->flat-rgb-array)\n",
    "      ;; Reshape to (1, c, h, w)\n",
    "      (ndarray/array [1 c h w])))"
   ]
  },
  {
   "cell_type": "code",
   "execution_count": 16,
   "metadata": {},
   "outputs": [
    {
     "data": {
      "text/plain": [
       "#'beaker_clojure_shell_1adc332d-8bd2-42c6-8038-38d33cd15c5d/predict"
      ]
     },
     "execution_count": 16,
     "metadata": {},
     "output_type": "execute_result"
    }
   ],
   "source": [
    "(defn- top-k\n",
    "  \"Return top `k` from prob-maps with :prob key\"\n",
    "  [k prob-maps]\n",
    "  (->> prob-maps\n",
    "       (sort-by :prob)\n",
    "       (reverse)\n",
    "       (take k)))\n",
    "\n",
    "(defn predict\n",
    "  \"Predict with `model` the top `k` labels from `labels` of the ndarray `x`\"\n",
    "  ([model labels x]\n",
    "   (predict model labels x 5))\n",
    "  ([model labels x k]\n",
    "   (let [probs (-> model\n",
    "                   (m/forward {:data [x]})\n",
    "                   (m/outputs)\n",
    "                   (ffirst)\n",
    "                   (ndarray/->vec))\n",
    "         prob-maps (mapv (fn [p l] {:prob p :label l}) probs labels)]\n",
    "     (top-k k prob-maps))))"
   ]
  },
  {
   "cell_type": "code",
   "execution_count": null,
   "metadata": {},
   "outputs": [],
   "source": [
    "(->> \"images/cat.jpg\"\n",
    "     (cv/imread)\n",
    "     (preprocess-img-mat)\n",
    "     (predict inception-mod image-net-labels))"
   ]
  },
  {
   "cell_type": "code",
   "execution_count": null,
   "metadata": {},
   "outputs": [],
   "source": [
    "(comment (->> \"images/cat.jpg\"\n",
    "     (cv/imread)\n",
    "     (preprocess-img-mat)\n",
    "     (predict vgg-16-mod image-net-labels)))"
   ]
  },
  {
   "cell_type": "code",
   "execution_count": null,
   "metadata": {},
   "outputs": [],
   "source": [
    "(defonce image-net-labels\n",
    "  (-> (str model-dir \"/synset.txt\")\n",
    "      (slurp)\n",
    "      (string/split #\"\\n\")))\n",
    "\n",
    ";; ImageNet 1000 Labels check\n",
    "(assert (= 1000 (count image-net-labels)))"
   ]
  },
  {
   "cell_type": "code",
   "execution_count": null,
   "metadata": {},
   "outputs": [],
   "source": [
    "(defn preprocess-img-mat\n",
    "  \"Preprocessing steps on an `img-mat` from OpenCV to feed into the Model\"\n",
    "  [img-mat]\n",
    "  (-> img-mat\n",
    "      ;; Resize image to (w, h)\n",
    "      (cv/resize! (cv/new-size w h))\n",
    "      ;; Maps pixel values from [-128, 128] to [0, 127]\n",
    "      (cv/convert-to! cv/CV_8SC3 0.5)\n",
    "      ;; Substract mean pixel values from ImageNet dataset\n",
    "      (cv/add! (cv/new-scalar -103.939 -116.779 -123.68))\n",
    "      ;; Flatten matrix\n",
    "      (cvu/mat->flat-rgb-array)\n",
    "      ;; Reshape to (1, c, h, w)\n",
    "      (ndarray/array [1 c h w])))"
   ]
  },
  {
   "cell_type": "markdown",
   "metadata": {},
   "source": [
    "First getting the dependencies from maven (might take some time, so one has to wait until the final output before going further)."
   ]
  },
  {
   "cell_type": "code",
   "execution_count": 1,
   "metadata": {},
   "outputs": [
    {
     "data": {
      "application/vnd.jupyter.widget-view+json": {
       "model_id": "",
       "version_major": 2,
       "version_minor": 0
      },
      "method": "display_data"
     },
     "metadata": {},
     "output_type": "display_data"
    },
    {
     "data": {
      "application/vnd.jupyter.widget-view+json": {
       "model_id": "b81fc1a8-e36d-4663-bde4-a2fa3090f607",
       "version_major": 2,
       "version_minor": 0
      },
      "method": "display_data"
     },
     "metadata": {},
     "output_type": "display_data"
    },
    {
     "data": {
      "application/vnd.jupyter.widget-view+json": {
       "model_id": "",
       "version_major": 2,
       "version_minor": 0
      },
      "method": "display_data"
     },
     "metadata": {},
     "output_type": "display_data"
    },
    {
     "data": {
      "application/vnd.jupyter.widget-view+json": {
       "model_id": "94aee6f7-f6eb-4afa-8378-f6fac908bd04",
       "version_major": 2,
       "version_minor": 0
      },
      "method": "display_data"
     },
     "metadata": {},
     "output_type": "display_data"
    },
    {
     "data": {
      "text/plain": [
       "null"
      ]
     },
     "execution_count": 1,
     "metadata": {},
     "output_type": "execute_result"
    }
   ],
   "source": [
    "%classpath add mvn rhizome rhizome 0.2.9\n",
    "%classpath add mvn instaparse instaparse 1.4.9\n",
    ";; with leiningen one would have a project.clj with\n",
    ";;\n",
    ";;(defproject languages \"0.1.0-SNAPSHOT\"\n",
    ";;  :description \"FIXME: write description\"\n",
    ";;  :url \"http://example.com/FIXME\"\n",
    ";;  :license {:name \"Eclipse Public License\"\n",
    ";;            :url \"http://www.eclipse.org/legal/epl-v10.html\"}\n",
    ";;  :dependencies [[org.clojure/clojure \"1.8.0\"]\n",
    ";;                 [instaparse \"1.4.9\"]\n",
    ";;                 [rhizome \"0.2.9\"]])\n"
   ]
  },
  {
   "cell_type": "markdown",
   "metadata": {},
   "source": [
    "## **Const** language\n",
    "\n",
    "If we only ever wanted to parse integers, of course we would just use `Integer.pasreInt()` or actually `Long.parseLong()`. However, as this is just a stepping stone to more interesting languages, we will use the same infrastructure of parsing and then interpreting or compiling.\n"
   ]
  },
  {
   "cell_type": "markdown",
   "metadata": {},
   "source": [
    "### Parser\n",
    "When represented as a string of characters, integers are a string of one or more digits possibly prefixed by a minus sign for negative numbers.\n",
    "\n",
    "One could write the following parsing rule using only literal terminals :\n",
    "`number= '-'? ('0'|'1'|'2'|'3'|'4'|'5'|'6'|'7'|'8'|'9')+`\n",
    "\n",
    "Note that this will accept leading zeros while we could also want to forbid them.\n",
    "Parsing the string `\"-123\"` would give the following result :`[:number \"-\" \"1\" \"2\" \"3\"]`\n",
    "So it would be up to the AST processing step to collate those strings before turning them into a number.\n",
    "\n",
    "In order to speed both the parsing and the processing of our numbers, we can /tokenize/ them with a regular expression instead :\n",
    "`NUMBER= #'-?[0-9]+'`\n",
    "In Clojure, we can build the parser using the instaparse library :"
   ]
  },
  {
   "cell_type": "code",
   "execution_count": 2,
   "metadata": {},
   "outputs": [
    {
     "name": "stdout",
     "output_type": "stream",
     "text": [
      "[:PROG [:NUMBER \"-123\"]]\n"
     ]
    },
    {
     "data": {
      "text/plain": [
       "null"
      ]
     },
     "execution_count": 2,
     "metadata": {},
     "output_type": "execute_result"
    }
   ],
   "source": [
    "(use 'instaparse.core)\n",
    "(def const-parser\n",
    "  (instaparse.core/parser\n",
    "   \"PROG= NUMBER\n",
    "    NUMBER= #'-?[0-9]+'\"))\n",
    "    \n",
    "(prn (const-parser \"-123\"))"
   ]
  },
  {
   "cell_type": "code",
   "execution_count": 3,
   "metadata": {
    "scrolled": true
   },
   "outputs": [
    {
     "data": {
      "image/png": "[encoded data removed]"
     },
     "execution_count": 3,
     "metadata": {},
     "output_type": "execute_result"
    }
   ],
   "source": [
    "(System/setProperty \"java.awt.headless\" \"true\");; required for the notebook\n",
    "(use 'rhizome.viz)\n",
    "(instaparse.core/visualize (const-parser \"-256\") :output-file :buffered-image )"
   ]
  },
  {
   "cell_type": "markdown",
   "metadata": {},
   "source": [
    "But this minimal parser fails to parse strings that we would want to consider valid :"
   ]
  },
  {
   "cell_type": "code",
   "execution_count": 4,
   "metadata": {},
   "outputs": [
    {
     "name": "stdout",
     "output_type": "stream",
     "text": [
      "Parse error at line 1, column 1:\n",
      "    -123456    \n",
      "^\n",
      "Expected:\n",
      "#\"-?[0-9]+\" (followed by end-of-string)\n",
      "\n"
     ]
    },
    {
     "data": {
      "text/plain": [
       "null"
      ]
     },
     "execution_count": 4,
     "metadata": {},
     "output_type": "execute_result"
    }
   ],
   "source": [
    "(prn (const-parser \"    -123456    \"))"
   ]
  },
  {
   "cell_type": "markdown",
   "metadata": {},
   "source": [
    "As we want to handle spaces before and after the number, we have to modify the grammar accordingly. For efficiency reasons, we also handle the plurality of consecutive spaces at the lexing stage with a regular expression :"
   ]
  },
  {
   "cell_type": "code",
   "execution_count": 5,
   "metadata": {},
   "outputs": [
    {
     "data": {
      "image/png": "[encoded data removed]"
     },
     "execution_count": 5,
     "metadata": {},
     "output_type": "execute_result"
    }
   ],
   "source": [
    "(def const-parser\n",
    "  (instaparse.core/parser\n",
    "   \"prog= spaces number spaces\n",
    "    number=#'-?[0-9]+'\n",
    "    <spaces> = <#'[ ]'*>\"))\n",
    "    \n",
    "(instaparse.core/visualize (const-parser \"    -123456    \") :output-file :buffered-image )"
   ]
  },
  {
   "cell_type": "markdown",
   "metadata": {},
   "source": [
    "Exercice : What if we remove the angle brackets in the grammar rules ?"
   ]
  },
  {
   "cell_type": "markdown",
   "metadata": {},
   "source": [
    "## **const** interpreter\n",
    "\n",
    "The simplest interpreter would be something like :"
   ]
  },
  {
   "cell_type": "code",
   "execution_count": 6,
   "metadata": {},
   "outputs": [
    {
     "data": {
      "text/plain": [
       "#'beaker_clojure_shell_24f2c611-5642-4afc-b5bf-59a032bac84a/const-interpreter"
      ]
     },
     "execution_count": 6,
     "metadata": {},
     "output_type": "execute_result"
    }
   ],
   "source": [
    " (defn const-interpreter [ast]\n",
    "   (instaparse.core/transform {:number #(Long/parseLong %)} ast))"
   ]
  },
  {
   "cell_type": "code",
   "execution_count": 7,
   "metadata": {},
   "outputs": [
    {
     "name": "stdout",
     "output_type": "stream",
     "text": [
      "[:prog -123]\n"
     ]
    },
    {
     "data": {
      "text/plain": [
       "null"
      ]
     },
     "execution_count": 7,
     "metadata": {},
     "output_type": "execute_result"
    }
   ],
   "source": [
    " (prn (-> \"-123\" const-parser const-interpreter))"
   ]
  },
  {
   "cell_type": "markdown",
   "metadata": {},
   "source": [
    "However, as we will want reuse code between the various languages, we will\n",
    "separate the language specific transform map and a generic function to turn an\n",
    "AST into a clojure function.\n",
    "\n",
    "The generic function taking a transform map and returning the function turning an\n",
    "AST into a clojure function : "
   ]
  },
  {
   "cell_type": "code",
   "execution_count": 8,
   "metadata": {},
   "outputs": [
    {
     "data": {
      "text/plain": [
       "#'beaker_clojure_shell_24f2c611-5642-4afc-b5bf-59a032bac84a/dynamic-eval"
      ]
     },
     "execution_count": 8,
     "metadata": {},
     "output_type": "execute_result"
    }
   ],
   "source": [
    "(defn dynamic-eval [interpreter]\n",
    "    (fn[ast]\n",
    "      (fn[]\n",
    "        (instaparse.core/transform interpreter ast))))"
   ]
  },
  {
   "cell_type": "markdown",
   "metadata": {},
   "source": [
    "We can use this function for our **const** language to create a `const-eval`\n",
    "function that will turn an AST into a clojure function:"
   ]
  },
  {
   "cell_type": "code",
   "execution_count": 9,
   "metadata": {},
   "outputs": [
    {
     "data": {
      "text/plain": [
       "#'beaker_clojure_shell_24f2c611-5642-4afc-b5bf-59a032bac84a/const-eval"
      ]
     },
     "execution_count": 9,
     "metadata": {},
     "output_type": "execute_result"
    }
   ],
   "source": [
    "(def const-interpreting\n",
    "  {:prog identity\n",
    "   :number #(Long/parseLong %)})\n",
    "(def const-eval (dynamic-eval const-interpreting))"
   ]
  },
  {
   "cell_type": "markdown",
   "metadata": {},
   "source": [
    "This function can be called on the result of parsing a string :"
   ]
  },
  {
   "cell_type": "code",
   "execution_count": 10,
   "metadata": {},
   "outputs": [
    {
     "data": {
      "text/plain": [
       "#'beaker_clojure_shell_24f2c611-5642-4afc-b5bf-59a032bac84a/const-eval-test"
      ]
     },
     "execution_count": 10,
     "metadata": {},
     "output_type": "execute_result"
    }
   ],
   "source": [
    "(def const-eval-test (-> \"-123 \" const-parser const-eval))"
   ]
  },
  {
   "cell_type": "markdown",
   "metadata": {},
   "source": [
    "The result can then be called like any other clojure function :"
   ]
  },
  {
   "cell_type": "code",
   "execution_count": 11,
   "metadata": {},
   "outputs": [
    {
     "data": {
      "text/plain": [
       "-123"
      ]
     },
     "execution_count": 11,
     "metadata": {},
     "output_type": "execute_result"
    }
   ],
   "source": [
    "(const-eval-test)"
   ]
  },
  {
   "cell_type": "markdown",
   "metadata": {},
   "source": [
    "## const compiler\n",
    "The compiler will be implemented in two steps :\n",
    "- turning the AST into a sequence of vectors. Each vector representing a\n",
    "  bytecode instruction and the parameters, if any, of the instruction.\n",
    "- generating a class with a static method implementing the bytecodes sequence\n",
    "  , dynamically loading this class and returning a clojure function calling the static method of the generated\n",
    "  class.\n"
   ]
  },
  {
   "cell_type": "markdown",
   "metadata": {},
   "source": [
    "###  Generating the instructions sequence\n",
    "As we will be processing an AST, we can do this with a transform map :"
   ]
  },
  {
   "cell_type": "code",
   "execution_count": 12,
   "metadata": {},
   "outputs": [
    {
     "data": {
      "text/plain": [
       "#'beaker_clojure_shell_24f2c611-5642-4afc-b5bf-59a032bac84a/const-compiling"
      ]
     },
     "execution_count": 12,
     "metadata": {},
     "output_type": "execute_result"
    }
   ],
   "source": [
    "(def const-compiling\n",
    "  {:prog (fn[& instrs](conj (reduce into [[:loadi 0]] instrs)[:reti]))\n",
    "   :number #(vector [:loadi (Long/parseLong %)])})"
   ]
  },
  {
   "cell_type": "markdown",
   "metadata": {},
   "source": [
    "The first `[:loadi 0]` will be useful when we allow empty programs : we will\n",
    "then always have a 0 on the stack, to return if nothing has been put on the\n",
    "stack by the program."
   ]
  },
  {
   "cell_type": "code",
   "execution_count": 13,
   "metadata": {},
   "outputs": [
    {
     "name": "stdout",
     "output_type": "stream",
     "text": [
      "[[:loadi 0] [:loadi -123] [:reti]]\n"
     ]
    },
    {
     "data": {
      "text/plain": [
       "null"
      ]
     },
     "execution_count": 13,
     "metadata": {},
     "output_type": "execute_result"
    }
   ],
   "source": [
    "(prn (->> \"-123\" const-parser (instaparse.core/transform const-compiling)))"
   ]
  },
  {
   "cell_type": "markdown",
   "metadata": {},
   "source": [
    "The actual bytecode will be generated by reducing a function over our sequence\n",
    "of bytecode instructions, calling the relevant method from a [MethodVisitor](http://asm.ow2.org/asm50/javadoc/user/org/objectweb/asm/MethodVisitor.html)\n",
    "object. The simplest way to implement it is the following :"
   ]
  },
  {
   "cell_type": "code",
   "execution_count": 14,
   "metadata": {},
   "outputs": [
    {
     "data": {
      "text/plain": [
       "class clojure.asm.commons.GeneratorAdapter"
      ]
     },
     "execution_count": 14,
     "metadata": {},
     "output_type": "execute_result"
    }
   ],
   "source": [
    "  (import '(clojure.asm Opcodes Type ClassWriter))\n",
    "  (import '(clojure.asm.commons Method GeneratorAdapter))"
   ]
  },
  {
   "cell_type": "code",
   "execution_count": 15,
   "metadata": {},
   "outputs": [
    {
     "data": {
      "text/plain": [
       "#'beaker_clojure_shell_24f2c611-5642-4afc-b5bf-59a032bac84a/const-instr-generating"
      ]
     },
     "execution_count": 15,
     "metadata": {},
     "output_type": "execute_result"
    }
   ],
   "source": [
    "(defn const-instr-generating [mv instr]\n",
    "  \"Generate the method call to an  org.objectweb.asm.MethodVisitor for a given instruction.\"\n",
    "  (do\n",
    "    (condp = (first instr)\n",
    "        :loadi (.visitLdcInsn mv (int (second instr)))\n",
    "        :reti (.visitInsn mv Opcodes/IRETURN)\n",
    "        )\n",
    "  mv))"
   ]
  },
  {
   "cell_type": "markdown",
   "metadata": {},
   "source": [
    "A `compiled` function will take care of creating class with a given class name,\n",
    "generating the bytecode in a static method called `run` and returning a clojure\n",
    "function calling the static method. We will be forward thinking by taking a\n",
    "number of arguments as a parameter, even if this argument will be 0 for all of\n",
    "our languages until **lang1**. The `bytecode-generator` will be a function calling\n",
    "the reducing function over the sequence of bytecode instructions, taking the\n",
    "`MethodVisitor` as argument :\n"
   ]
  },
  {
   "cell_type": "code",
   "execution_count": 16,
   "metadata": {},
   "outputs": [
    {
     "data": {
      "text/plain": [
       "#'beaker_clojure_shell_24f2c611-5642-4afc-b5bf-59a032bac84a/compiled"
      ]
     },
     "execution_count": 16,
     "metadata": {},
     "output_type": "execute_result"
    }
   ],
   "source": [
    "(defn compiled [n-args class-name bytecode-generator]\n",
    "    (let [cw (ClassWriter. (+ ClassWriter/COMPUTE_FRAMES ClassWriter/COMPUTE_MAXS ))\n",
    "          init (Method/getMethod \"void <init>()\")\n",
    "          meth-name \"run\"\n",
    "          meth-sig (str \"(\" (apply str (repeat n-args \"I\")) \")I\")]\n",
    "      (.visit cw Opcodes/V1_6 Opcodes/ACC_PUBLIC (.replace class-name \\. \\/) nil \"java/lang/Object\" nil)\n",
    "      (doto (GeneratorAdapter. Opcodes/ACC_PUBLIC init nil nil cw)\n",
    "        (.visitCode)\n",
    "        (.loadThis)\n",
    "        (.invokeConstructor (Type/getType Object) init)\n",
    "        (.returnValue)\n",
    "        (.endMethod))\n",
    "      (doto (.visitMethod cw (+ Opcodes/ACC_PUBLIC Opcodes/ACC_STATIC) meth-name meth-sig nil nil )\n",
    "        (.visitCode)\n",
    "        (bytecode-generator)\n",
    "        (.visitMaxs 0 0 )\n",
    "        (.visitEnd))\n",
    "      (.visitEnd cw)\n",
    "      (let [b (.toByteArray cw)\n",
    "            cl (clojure.lang.DynamicClassLoader.)]\n",
    "        (.defineClass cl class-name b nil))\n",
    "      (fn [& args] (clojure.lang.Reflector/invokeStaticMethod class-name meth-name (into-array args))))\n",
    "    )\n"
   ]
  },
  {
   "cell_type": "markdown",
   "metadata": {},
   "source": [
    "It can be used in a `bytecode-generating-eval` function to create a compiler\n",
    "that will take an ast as argument and return the function created with `compiled` :"
   ]
  },
  {
   "cell_type": "code",
   "execution_count": 17,
   "metadata": {},
   "outputs": [
    {
     "data": {
      "text/plain": [
       "#'beaker_clojure_shell_24f2c611-5642-4afc-b5bf-59a032bac84a/bytecode-generating-eval"
      ]
     },
     "execution_count": 17,
     "metadata": {},
     "output_type": "execute_result"
    }
   ],
   "source": [
    "(defn bytecode-generating-eval [n-args class-name compiling instr-generating]\n",
    "  (fn[ast]\n",
    "  (let[instrs (instaparse.core/transform compiling ast)\n",
    "       generate-prog (fn[mv] (reduce instr-generating mv instrs))]\n",
    "    (compiled n-args class-name generate-prog))))"
   ]
  },
  {
   "cell_type": "markdown",
   "metadata": {},
   "source": [
    "Using this function for our **const** language would be :"
   ]
  },
  {
   "cell_type": "code",
   "execution_count": 18,
   "metadata": {},
   "outputs": [
    {
     "data": {
      "text/plain": [
       "#'beaker_clojure_shell_24f2c611-5642-4afc-b5bf-59a032bac84a/const-compiler"
      ]
     },
     "execution_count": 18,
     "metadata": {},
     "output_type": "execute_result"
    }
   ],
   "source": [
    "(def const-compiler (bytecode-generating-eval 0 \"ConstCompiler\" const-compiling const-instr-generating))"
   ]
  },
  {
   "cell_type": "markdown",
   "metadata": {},
   "source": [
    "Such a compiler can then be used like :"
   ]
  },
  {
   "cell_type": "code",
   "execution_count": 19,
   "metadata": {},
   "outputs": [
    {
     "data": {
      "text/plain": [
       "#'beaker_clojure_shell_24f2c611-5642-4afc-b5bf-59a032bac84a/const-compiler-test"
      ]
     },
     "execution_count": 19,
     "metadata": {},
     "output_type": "execute_result"
    }
   ],
   "source": [
    "(def const-compiler-test (-> \"-123\" const-parser const-compiler ))"
   ]
  },
  {
   "cell_type": "markdown",
   "metadata": {},
   "source": [
    "And the resulting function is a normal clojure function :"
   ]
  },
  {
   "cell_type": "code",
   "execution_count": 20,
   "metadata": {},
   "outputs": [
    {
     "data": {
      "text/plain": [
       "-123"
      ]
     },
     "execution_count": 20,
     "metadata": {},
     "output_type": "execute_result"
    }
   ],
   "source": [
    "(const-compiler-test)"
   ]
  },
  {
   "cell_type": "markdown",
   "metadata": {},
   "source": [
    "#### Improving the instructions generating reducing function\n",
    "The `const-instr-generating` function defined above works perfectly fine. In\n",
    "order to define other languages, we could just replace it with new functions\n",
    "adding cases to the `condp` expression. However, it can also be rewritten to be\n",
    "_extended_ rather than replaced, by using dynamic dispatching on the instruction\n",
    "type. This can easily be done in clojure with a *multimethod*. A dispatching\n",
    "implementation could use a `generate-instr` multimethod :\n"
   ]
  },
  {
   "cell_type": "code",
   "execution_count": 21,
   "metadata": {},
   "outputs": [
    {
     "data": {
      "text/plain": [
       "#'beaker_clojure_shell_24f2c611-5642-4afc-b5bf-59a032bac84a/dispatching-bytecode-generating-eval"
      ]
     },
     "execution_count": 21,
     "metadata": {},
     "output_type": "execute_result"
    }
   ],
   "source": [
    "(defmulti generate-instr (fn [mv [instr & args]] instr))\n",
    "(defn dispatching-bytecode-generating-eval [n-args class-name compiling]\n",
    "  (fn[ast]\n",
    "    (let[instrs (instaparse.core/transform compiling ast)\n",
    "         generate-prog (fn[mv] (reduce generate-instr mv instrs))]\n",
    "      (compiled n-args class-name generate-prog))))"
   ]
  },
  {
   "cell_type": "markdown",
   "metadata": {},
   "source": [
    "The `generate-instr` multimethod is defined as dispatching according to the\n",
    "value of the first element of the vector argument (which will be the keyword\n",
    "indicating the kind of bytecode instruction).\n",
    "For our **const** language, we only need two implementation mirroring the two\n",
    "cases of the `condp` in `const-instr-generating` :"
   ]
  },
  {
   "cell_type": "code",
   "execution_count": 22,
   "metadata": {},
   "outputs": [
    {
     "data": {
      "text/plain": [
       "clojure.lang.MultiFn@15db8da9"
      ]
     },
     "execution_count": 22,
     "metadata": {},
     "output_type": "execute_result"
    }
   ],
   "source": [
    "(defmethod generate-instr :loadi [mv [instr & args]]\n",
    "  (doto mv\n",
    "    (.visitLdcInsn (int (first args)))))\n",
    "\n",
    "(defmethod generate-instr :reti [mv [instr & args]]\n",
    "  (doto mv\n",
    "    (.visitInsn Opcodes/IRETURN)))"
   ]
  },
  {
   "cell_type": "markdown",
   "metadata": {},
   "source": [
    "The new implementation is called exactly in the same way :"
   ]
  },
  {
   "cell_type": "code",
   "execution_count": 23,
   "metadata": {},
   "outputs": [
    {
     "data": {
      "text/plain": [
       "-123"
      ]
     },
     "execution_count": 23,
     "metadata": {},
     "output_type": "execute_result"
    }
   ],
   "source": [
    "(def const-compiler (dispatching-bytecode-generating-eval 0 \"ConstCompiler\" const-compiling))\n",
    "(def const-compiler-test (-> \"-123\" const-parser const-compiler))\n",
    "(const-compiler-test)"
   ]
  },
  {
   "cell_type": "markdown",
   "metadata": {},
   "source": [
    "# AddSub language\n",
    "\n",
    "## Parser\n",
    "\n",
    "We define an `add-sub` rule with the foresight that it will be useful to\n",
    "represent operations of a given priority for the parsing step. However, we do\n",
    "not need such a node in our AST so we use angle brackets \"<>\" to remove them for\n",
    "the resulting AST :"
   ]
  },
  {
   "cell_type": "code",
   "execution_count": 24,
   "metadata": {},
   "outputs": [
    {
     "data": {
      "text/plain": [
       "#'beaker_clojure_shell_24f2c611-5642-4afc-b5bf-59a032bac84a/addsub-parser"
      ]
     },
     "execution_count": 24,
     "metadata": {},
     "output_type": "execute_result"
    }
   ],
   "source": [
    "(def addsub-parser\n",
    "  (instaparse.core/parser\n",
    "   \"prog= spaces add-sub spaces\n",
    "    <add-sub>= number | add | sub\n",
    "    add= add-sub spaces <'+'> spaces number\n",
    "    sub= add-sub spaces <'-'> spaces number\n",
    "    number= #'-?[0-9]+'\n",
    "    <spaces>= <#'\\\\s*'>\"))"
   ]
  },
  {
   "cell_type": "markdown",
   "metadata": {},
   "source": [
    "The parser can be used on a sample string :"
   ]
  },
  {
   "cell_type": "code",
   "execution_count": 26,
   "metadata": {},
   "outputs": [
    {
     "data": {
      "image/png": "[encoded data removed]"
     },
     "execution_count": 26,
     "metadata": {},
     "output_type": "execute_result"
    }
   ],
   "source": [
    "(-> \"1+2-3-1\" addsub-parser (instaparse.core/visualize :output-file :buffered-image ))"
   ]
  },
  {
   "cell_type": "markdown",
   "metadata": {},
   "source": [
    "## Interpreter"
   ]
  },
  {
   "cell_type": "markdown",
   "metadata": {},
   "source": [
    "We can define our interpreting transform map by adding the functions to process\n",
    "the new `:add` and `:sub` nodes in the AST :"
   ]
  },
  {
   "cell_type": "code",
   "execution_count": 27,
   "metadata": {},
   "outputs": [
    {
     "data": {
      "text/plain": [
       "#'beaker_clojure_shell_24f2c611-5642-4afc-b5bf-59a032bac84a/addsub-interpreting"
      ]
     },
     "execution_count": 27,
     "metadata": {},
     "output_type": "execute_result"
    }
   ],
   "source": [
    "(def addsub-interpreting\n",
    "  (assoc const-interpreting :add + :sub -))"
   ]
  },
  {
   "cell_type": "markdown",
   "metadata": {},
   "source": [
    "We can then reuse our previous functions :"
   ]
  },
  {
   "cell_type": "code",
   "execution_count": 28,
   "metadata": {},
   "outputs": [
    {
     "data": {
      "text/plain": [
       "-1"
      ]
     },
     "execution_count": 28,
     "metadata": {},
     "output_type": "execute_result"
    }
   ],
   "source": [
    "(def addsub-eval (dynamic-eval addsub-interpreting))\n",
    "(def addsub-eval-test (-> \"1+2-3-1\" addsub-parser addsub-eval))\n",
    "(addsub-eval-test)"
   ]
  },
  {
   "cell_type": "markdown",
   "metadata": {},
   "source": [
    "## Compiler\n",
    "\n",
    "The bytecode sequence for a binary operation is the concatenation of the\n",
    "bytecode sequence for the first operand, the bytecode sequence for the second\n",
    "operand, and the specific bytecode for the given operation. We define a function\n",
    "`assoc-binary-op` to add such function to a transform map turning an AST into a\n",
    "sequence of bytecode instructions. The `op` argument is the AST node and the\n",
    "`instr` argument is the keyword representing bytecode instruction :\n"
   ]
  },
  {
   "cell_type": "code",
   "execution_count": 29,
   "metadata": {},
   "outputs": [
    {
     "data": {
      "text/plain": [
       "#'beaker_clojure_shell_24f2c611-5642-4afc-b5bf-59a032bac84a/assoc-binary-op"
      ]
     },
     "execution_count": 29,
     "metadata": {},
     "output_type": "execute_result"
    }
   ],
   "source": [
    "(defn assoc-binary-op [m [op instr]]\n",
    "  (let[binary-op-compiling (fn[op]\n",
    "                             (fn[instrs-v0 instrs-v1]\n",
    "         (conj (into instrs-v0 instrs-v1) [op])))]\n",
    "    (assoc m op (binary-op-compiling instr))))"
   ]
  },
  {
   "cell_type": "markdown",
   "metadata": {},
   "source": [
    "We can use it to create our `addsub` transform map :"
   ]
  },
  {
   "cell_type": "code",
   "execution_count": 30,
   "metadata": {},
   "outputs": [
    {
     "data": {
      "text/plain": [
       "#'beaker_clojure_shell_24f2c611-5642-4afc-b5bf-59a032bac84a/addsub-compiling"
      ]
     },
     "execution_count": 30,
     "metadata": {},
     "output_type": "execute_result"
    }
   ],
   "source": [
    "(def addsub-compiling\n",
    "  (reduce assoc-binary-op const-compiling [[:add :addi][:sub :subi]]))"
   ]
  },
  {
   "cell_type": "markdown",
   "metadata": {},
   "source": [
    "We can test it :"
   ]
  },
  {
   "cell_type": "code",
   "execution_count": 32,
   "metadata": {},
   "outputs": [
    {
     "data": {
      "text/plain": [
       "[[:loadi 0] [:loadi 1] [:loadi 2] [:addi] [:loadi 3] [:subi] [:loadi 1] [:subi] [:reti]]"
      ]
     },
     "execution_count": 32,
     "metadata": {},
     "output_type": "execute_result"
    }
   ],
   "source": [
    "(str (->> \"1+2-3-1\" addsub-parser (instaparse.core/transform addsub-compiling)))"
   ]
  },
  {
   "cell_type": "markdown",
   "metadata": {},
   "source": [
    "We just have to add the multimethod definitions for the new instructions :"
   ]
  },
  {
   "cell_type": "code",
   "execution_count": 33,
   "metadata": {},
   "outputs": [
    {
     "data": {
      "text/plain": [
       "clojure.lang.MultiFn@15db8da9"
      ]
     },
     "execution_count": 33,
     "metadata": {},
     "output_type": "execute_result"
    }
   ],
   "source": [
    "(defmethod generate-instr :addi [mv [instr & args]]\n",
    "  (doto mv\n",
    "    (.visitInsn Opcodes/IADD)))\n",
    "\n",
    "(defmethod generate-instr :subi [mv [instr & args]]\n",
    "  (doto mv\n",
    "    (.visitInsn Opcodes/ISUB)))"
   ]
  },
  {
   "cell_type": "markdown",
   "metadata": {},
   "source": [
    "The **addsub** compiler can then be created reusing our previous functions :"
   ]
  },
  {
   "cell_type": "code",
   "execution_count": 34,
   "metadata": {
    "scrolled": true
   },
   "outputs": [
    {
     "data": {
      "text/plain": [
       "#'beaker_clojure_shell_24f2c611-5642-4afc-b5bf-59a032bac84a/addsub-compiler"
      ]
     },
     "execution_count": 34,
     "metadata": {},
     "output_type": "execute_result"
    }
   ],
   "source": [
    "(def addsub-compiler (dispatching-bytecode-generating-eval 0 \"AddsubCompiler\" addsub-compiling))"
   ]
  },
  {
   "cell_type": "markdown",
   "metadata": {},
   "source": [
    "We can use it as usual :"
   ]
  },
  {
   "cell_type": "code",
   "execution_count": 35,
   "metadata": {},
   "outputs": [
    {
     "data": {
      "text/plain": [
       "-1"
      ]
     },
     "execution_count": 35,
     "metadata": {},
     "output_type": "execute_result"
    }
   ],
   "source": [
    "(def addsub-compiler-test (-> \"1+ 2 - 3 - 1\" addsub-parser addsub-compiler))\n",
    "(addsub-compiler-test)"
   ]
  },
  {
   "cell_type": "markdown",
   "metadata": {},
   "source": [
    "# Addmult language\n",
    "## Parser\n",
    "As we define a top down parser, we first try to match the lowest priority expressions :"
   ]
  },
  {
   "cell_type": "code",
   "execution_count": 36,
   "metadata": {
    "scrolled": true
   },
   "outputs": [
    {
     "data": {
      "text/plain": [
       "#'beaker_clojure_shell_24f2c611-5642-4afc-b5bf-59a032bac84a/addmult-parser"
      ]
     },
     "execution_count": 36,
     "metadata": {},
     "output_type": "execute_result"
    }
   ],
   "source": [
    "(def addmult-parser\n",
    "  (instaparse.core/parser\n",
    "   \"prog= spaces add-sub spaces\n",
    "    <add-sub>= mult-div | add | sub\n",
    "    add= add-sub spaces <'+'> spaces mult-div\n",
    "    sub= add-sub spaces <'-'> spaces mult-div\n",
    "    <mult-div>= number | mult | div\n",
    "    mult= mult-div spaces <'*'> spaces number\n",
    "    div= mult-div spaces <'/'> spaces number\n",
    "    number= #'-?[0-9]+'\n",
    "    <spaces>= <#'\\\\s*'>\"))"
   ]
  },
  {
   "cell_type": "markdown",
   "metadata": {},
   "source": [
    "We can use this parser on a sample program :"
   ]
  },
  {
   "cell_type": "code",
   "execution_count": 37,
   "metadata": {},
   "outputs": [
    {
     "data": {
      "image/png": "[encoded data removed]"
     },
     "execution_count": 37,
     "metadata": {},
     "output_type": "execute_result"
    }
   ],
   "source": [
    "(-> \"1 + 3 * -2 -1\" addmult-parser (instaparse.core/visualize :output-file :buffered-image ))"
   ]
  },
  {
   "cell_type": "markdown",
   "metadata": {},
   "source": [
    "## Interpreter\n",
    "We can add the new AST node types to the transform map :"
   ]
  },
  {
   "cell_type": "code",
   "execution_count": 38,
   "metadata": {
    "scrolled": true
   },
   "outputs": [
    {
     "data": {
      "text/plain": [
       "#'beaker_clojure_shell_24f2c611-5642-4afc-b5bf-59a032bac84a/addmult-interpreting"
      ]
     },
     "execution_count": 38,
     "metadata": {},
     "output_type": "execute_result"
    }
   ],
   "source": [
    "(def addmult-interpreting (assoc addsub-interpreting :mult * :div /))"
   ]
  },
  {
   "cell_type": "markdown",
   "metadata": {},
   "source": [
    "And reuse our previous functions :"
   ]
  },
  {
   "cell_type": "code",
   "execution_count": 39,
   "metadata": {
    "scrolled": true
   },
   "outputs": [
    {
     "data": {
      "text/plain": [
       "#'beaker_clojure_shell_24f2c611-5642-4afc-b5bf-59a032bac84a/addmult-eval"
      ]
     },
     "execution_count": 39,
     "metadata": {},
     "output_type": "execute_result"
    }
   ],
   "source": [
    "(def addmult-eval (dynamic-eval addmult-interpreting ))"
   ]
  },
  {
   "cell_type": "markdown",
   "metadata": {},
   "source": [
    "The interpreter can be used as usual :"
   ]
  },
  {
   "cell_type": "code",
   "execution_count": 40,
   "metadata": {},
   "outputs": [
    {
     "data": {
      "text/plain": [
       "-6"
      ]
     },
     "execution_count": 40,
     "metadata": {},
     "output_type": "execute_result"
    }
   ],
   "source": [
    "(def addmult-eval-test (-> \"1 + 3 * -2 -1\" addmult-parser addmult-eval))\n",
    "(addmult-eval-test)"
   ]
  },
  {
   "cell_type": "markdown",
   "metadata": {},
   "source": [
    "## Compiler\n",
    "We can easily add the two new binary operations :"
   ]
  },
  {
   "cell_type": "code",
   "execution_count": 41,
   "metadata": {},
   "outputs": [
    {
     "data": {
      "text/plain": [
       "clojure.lang.MultiFn@15db8da9"
      ]
     },
     "execution_count": 41,
     "metadata": {},
     "output_type": "execute_result"
    }
   ],
   "source": [
    "(def addmult-compiling\n",
    "  (reduce assoc-binary-op addsub-compiling [[:mult :multi][:div :divi]]))\n",
    "\n",
    "(defmethod generate-instr :multi [mv [instr & args]]\n",
    "  (doto mv\n",
    "    (.visitInsn Opcodes/IMUL)))\n",
    "\n",
    "(defmethod generate-instr :divi [mv [instr & args]]\n",
    "  (doto mv\n",
    "    (.visitInsn Opcodes/IDIV)))"
   ]
  },
  {
   "cell_type": "markdown",
   "metadata": {},
   "source": [
    "And then reuse the previous functions :"
   ]
  },
  {
   "cell_type": "code",
   "execution_count": 42,
   "metadata": {},
   "outputs": [
    {
     "data": {
      "text/plain": [
       "#'beaker_clojure_shell_24f2c611-5642-4afc-b5bf-59a032bac84a/addmult-compiler"
      ]
     },
     "execution_count": 42,
     "metadata": {},
     "output_type": "execute_result"
    }
   ],
   "source": [
    "(def addmult-compiler (dispatching-bytecode-generating-eval 0 \"AddmultCompiler\" addmult-compiling))"
   ]
  },
  {
   "cell_type": "markdown",
   "metadata": {},
   "source": [
    "This compiler can be used as usual :"
   ]
  },
  {
   "cell_type": "code",
   "execution_count": 43,
   "metadata": {},
   "outputs": [
    {
     "data": {
      "text/plain": [
       "-6"
      ]
     },
     "execution_count": 43,
     "metadata": {},
     "output_type": "execute_result"
    }
   ],
   "source": [
    "(def addmult-compiler-test (-> \"1 + 3 * -2 - 1\" addmult-parser addmult-compiler))\n",
    "(addmult-compiler-test)"
   ]
  },
  {
   "cell_type": "markdown",
   "metadata": {},
   "source": [
    "# Arith language\n",
    "## Parser\n",
    "We can update our grammar to allow grouping by matching parentheses. This is done by introducing a high priority `factor` that can be either a `number` or an expresssion (lowest level : `add-sub`) between parentheses :"
   ]
  },
  {
   "cell_type": "code",
   "execution_count": 44,
   "metadata": {},
   "outputs": [
    {
     "data": {
      "text/plain": [
       "#'beaker_clojure_shell_24f2c611-5642-4afc-b5bf-59a032bac84a/arith-parser"
      ]
     },
     "execution_count": 44,
     "metadata": {},
     "output_type": "execute_result"
    }
   ],
   "source": [
    "(def arith-parser\n",
    "  (instaparse.core/parser\n",
    "   \"prog = spaces add-sub spaces\n",
    "    <add-sub> = mult-div | add | sub\n",
    "    add = add-sub spaces <'+'> spaces mult-div\n",
    "    sub = add-sub spaces <'-'> spaces mult-div\n",
    "    <mult-div> = term | mult | div\n",
    "    mult = mult-div spaces <'*'> spaces term\n",
    "    div = mult-div spaces <'/'> spaces term\n",
    "    <term> = number | <'('> add-sub <')'>\n",
    "    <spaces> = <#'\\\\s'*>\n",
    "    number = #'-?[0-9]+'\"))"
   ]
  },
  {
   "cell_type": "markdown",
   "metadata": {},
   "source": [
    "We can use this grammar on a sample program :"
   ]
  },
  {
   "cell_type": "code",
   "execution_count": 45,
   "metadata": {},
   "outputs": [
    {
     "data": {
      "image/png": "[encoded data removed]"
     },
     "execution_count": 45,
     "metadata": {},
     "output_type": "execute_result"
    }
   ],
   "source": [
    "(-> \"(1 + 3) * -2 -1\" arith-parser (instaparse.core/visualize :output-file :buffered-image ))"
   ]
  },
  {
   "cell_type": "markdown",
   "metadata": {},
   "source": [
    " ## Interpreter\n",
    " The AST containts exactly the same kind of nodes as for the **addmult** language (neither the new `(` and `)` symbols nor the new `term` rule produce any node), so the interpreter is exactly the same:"
   ]
  },
  {
   "cell_type": "code",
   "execution_count": 48,
   "metadata": {},
   "outputs": [
    {
     "data": {
      "text/plain": [
       "-9"
      ]
     },
     "execution_count": 48,
     "metadata": {},
     "output_type": "execute_result"
    }
   ],
   "source": [
    "(def arith-eval-test (-> \"(1 + 3) * -2 -1\" arith-parser addmult-eval))\n",
    "(arith-eval-test)"
   ]
  },
  {
   "cell_type": "markdown",
   "metadata": {},
   "source": [
    "For exactly the same reason, the compiler is exactly the same as the **addmult** compiler:"
   ]
  },
  {
   "cell_type": "code",
   "execution_count": 49,
   "metadata": {},
   "outputs": [
    {
     "data": {
      "text/plain": [
       "-8"
      ]
     },
     "execution_count": 49,
     "metadata": {},
     "output_type": "execute_result"
    }
   ],
   "source": [
    "(def arith-compiler-test (-> \"1 + 3 * (-2 - 1)\" arith-parser addmult-compiler))\n",
    "(arith-compiler-test)"
   ]
  },
  {
   "cell_type": "markdown",
   "metadata": {},
   "source": [
    "# Lang0\n",
    "## Parser\n",
    "We update the parser to define :\n",
    "- a program as a sequence of expressions\n",
    "- an expression that can be either an assignment or an arithmetic expression\n",
    "- variables that can either be used on the left hand side of an assignment or as a read (\"varget\") on the right hand side\n",
    "- factor that replaces term and also allows for `varget` or assignments (the value of the assignment expression is the assigned value)"
   ]
  },
  {
   "cell_type": "code",
   "execution_count": 50,
   "metadata": {},
   "outputs": [
    {
     "data": {
      "text/plain": [
       "#'beaker_clojure_shell_24f2c611-5642-4afc-b5bf-59a032bac84a/lang0-parser"
      ]
     },
     "execution_count": 50,
     "metadata": {},
     "output_type": "execute_result"
    }
   ],
   "source": [
    "(def lang0-parser\n",
    "  (instaparse.core/parser\n",
    "   \"prog = (spaces expr spaces <';'> spaces)*\n",
    "    <expr> = assig | add-sub\n",
    "    assig = varname spaces <'='> spaces expr\n",
    "    <add-sub> = mult-div | add | sub\n",
    "    add = add-sub spaces <'+'> spaces mult-div\n",
    "    sub = add-sub spaces <'-'> spaces mult-div\n",
    "    <mult-div> = factor | mult |div\n",
    "    mult = mult-div spaces <'*'> spaces factor\n",
    "    div = mult-div spaces <'/'> spaces factor\n",
    "    <factor> = number | <'('> spaces expr spaces <')'> | varget |assig\n",
    "    <spaces> = <#'\\\\s*'>\n",
    "    number = #'-?[0-9]+'\n",
    "    varget = varname\n",
    "    varname = #'[a-zA-Z]\\\\w*'\"))\n"
   ]
  },
  {
   "cell_type": "markdown",
   "metadata": {},
   "source": [
    "The parser can be used on a sample program :"
   ]
  },
  {
   "cell_type": "code",
   "execution_count": 52,
   "metadata": {},
   "outputs": [
    {
     "data": {
      "image/png": "[encoded data removed]"
     },
     "execution_count": 52,
     "metadata": {},
     "output_type": "execute_result"
    }
   ],
   "source": [
    "(-> \"a=1+1*3;b=a-2; a+b;\" lang0-parser (instaparse.core/visualize :output-file :buffered-image ))"
   ]
  },
  {
   "cell_type": "markdown",
   "metadata": {},
   "source": [
    "## Interpreter\n",
    "\n",
    "Now, our interpreter must be able to access an environment, so that assignments\n",
    "can have an effect. This environment is a map, mapping from variable names (as\n",
    "keywords) to values, with a special key `:_ret` for the current value of an\n",
    "expression. When evaluating the nodes of an AST with a transform map, each node\n",
    "will evaluate to the new environment. The first transform map just reduces the actual\n",
    "transform map over the environment :"
   ]
  },
  {
   "cell_type": "code",
   "execution_count": 53,
   "metadata": {},
   "outputs": [
    {
     "data": {
      "text/plain": [
       "#'beaker_clojure_shell_24f2c611-5642-4afc-b5bf-59a032bac84a/make-lang0-instr-interpreting"
      ]
     },
     "execution_count": 53,
     "metadata": {},
     "output_type": "execute_result"
    }
   ],
   "source": [
    "(defn make-interpreting [make-instr-interpreting init-env]\n",
    "  {:prog (fn [& instrs] (:_ret (reduce\n",
    "                                       (fn[env instr]\n",
    "                                         (instaparse.core/transform (make-instr-interpreting env) instr))\n",
    "                                       init-env\n",
    "                                       instrs)))})\n",
    "(defn make-lang0-instr-interpreting [env]\n",
    "  { :assig (fn[{varname :_ret :as env1} {value :_ret :as env2}]\n",
    "             (assoc (merge env1 env2) varname value :_ret value))\n",
    "   :add (fn[{v1 :_ret :as env1} {v2 :_ret :as env2}]\n",
    "          (assoc (merge env1 env2) :_ret (+ v1 v2)))\n",
    "   :sub (fn[{v1 :_ret :as env1} {v2 :_ret :as env2}]\n",
    "          (assoc (merge env1 env2) :_ret (- v1 v2)))\n",
    "   :mult (fn[{v1 :_ret :as env1} {v2 :_ret :as env2}]\n",
    "           (assoc (merge env1 env2) :_ret (* v1 v2)))\n",
    "   :div (fn[{v1 :_ret :as env1} {v2 :_ret :as env2}]\n",
    "          (assoc (merge env1 env2) :_ret (quot v1 v2)))\n",
    "   :number #(assoc env :_ret (Integer/parseInt %))\n",
    "   :varname #(assoc env :_ret (keyword %))\n",
    "   :varget (fn [{varname :_ret :as env1}]\n",
    "             (assoc env1 :_ret (varname env1)))})\n"
   ]
  },
  {
   "cell_type": "markdown",
   "metadata": {},
   "source": [
    "We can reuse the previous functions :"
   ]
  },
  {
   "cell_type": "code",
   "execution_count": 54,
   "metadata": {},
   "outputs": [
    {
     "data": {
      "text/plain": [
       "#'beaker_clojure_shell_24f2c611-5642-4afc-b5bf-59a032bac84a/lang0-interpret"
      ]
     },
     "execution_count": 54,
     "metadata": {},
     "output_type": "execute_result"
    }
   ],
   "source": [
    "(def lang0-interpret (dynamic-eval (make-interpreting make-lang0-instr-interpreting {:_ret 0})))"
   ]
  },
  {
   "cell_type": "markdown",
   "metadata": {},
   "source": [
    "And test our interpreter as usual:"
   ]
  },
  {
   "cell_type": "code",
   "execution_count": 55,
   "metadata": {},
   "outputs": [
    {
     "data": {
      "text/plain": [
       "6"
      ]
     },
     "execution_count": 55,
     "metadata": {},
     "output_type": "execute_result"
    }
   ],
   "source": [
    "(def lang0-interpret-test (->> \"a=1+1*3;b=a-2; a+b;\" lang0-parser lang0-interpret))\n",
    "(lang0-interpret-test)"
   ]
  },
  {
   "cell_type": "markdown",
   "metadata": {},
   "source": [
    "## Compiler\n",
    "We update the transform map :"
   ]
  },
  {
   "cell_type": "code",
   "execution_count": 71,
   "metadata": {},
   "outputs": [
    {
     "data": {
      "text/plain": [
       "#'beaker_clojure_shell_24f2c611-5642-4afc-b5bf-59a032bac84a/lang0-compiling"
      ]
     },
     "execution_count": 71,
     "metadata": {},
     "output_type": "execute_result"
    }
   ],
   "source": [
    "(def lang0-compiling\n",
    "  (assoc addmult-compiling\n",
    "         :varget #(vector [:load %])\n",
    "         :assig (fn[var instrs](conj instrs [:store var]))))"
   ]
  },
  {
   "cell_type": "markdown",
   "metadata": {},
   "source": [
    "But we also have to replace variable names with numbers (the JVM bytecode numbers arguments and local variables in the order they appear in a method). We are forward thinking by taking a =nb-args= argument even if for now we will\n",
    "number our variables starting with 0."
   ]
  },
  {
   "cell_type": "code",
   "execution_count": 61,
   "metadata": {},
   "outputs": [
    {
     "data": {
      "text/plain": [
       "#'beaker_clojure_shell_24f2c611-5642-4afc-b5bf-59a032bac84a/to-numeric-vars"
      ]
     },
     "execution_count": 61,
     "metadata": {},
     "output_type": "execute_result"
    }
   ],
   "source": [
    "(use 'clojure.set)\n",
    ";; helper function that replaces all the values in map m with the given value v\n",
    "(defn replace-vals [m v]\n",
    "  (into {} (map vector (keys m) (repeat v ))))\n",
    "\n",
    "(defn to-numeric-vars[nb-args ast]\n",
    "  (let[varnames\n",
    "       (instaparse.core/transform\n",
    "        (assoc (replace-vals\n",
    "                lang0-compiling\n",
    "                (fn[& instrs] (apply clojure.set/union (filter set? instrs))))\n",
    "               :varname (fn[varname]#{varname}))\n",
    "        ast)\n",
    "       name->num (into {} (map vector varnames (iterate inc nb-args)))]\n",
    "    (instaparse.core/transform {:varname #(get name->num %)} ast)))"
   ]
  },
  {
   "cell_type": "markdown",
   "metadata": {},
   "source": [
    "We can test this helper function :"
   ]
  },
  {
   "cell_type": "code",
   "execution_count": 64,
   "metadata": {},
   "outputs": [
    {
     "data": {
      "text/plain": [
       "[:prog [:assig 0 [:add [:number \"1\"] [:mult [:number \"1\"] [:number \"3\"]]]] [:assig 1 [:sub [:varget 0] [:number \"2\"]]] [:add [:varget 0] [:varget 1]]]"
      ]
     },
     "execution_count": 64,
     "metadata": {},
     "output_type": "execute_result"
    }
   ],
   "source": [
    "(str (->> \"a=1+1*3;b=a-2; a+b;\" lang0-parser (to-numeric-vars 0)))"
   ]
  },
  {
   "cell_type": "markdown",
   "metadata": {},
   "source": [
    "And see how it works when called before compiling to bytecode representation :"
   ]
  },
  {
   "cell_type": "code",
   "execution_count": 74,
   "metadata": {},
   "outputs": [
    {
     "data": {
      "text/plain": [
       "[[:loadi 0] [:loadi 1] [:loadi 1] [:loadi 3] [:multi] [:addi] [:store 0] [:load 0] [:loadi 2] [:subi] [:store 1] [:load 0] [:load 1] [:addi] [:reti]]"
      ]
     },
     "execution_count": 74,
     "metadata": {},
     "output_type": "execute_result"
    }
   ],
   "source": [
    "(str (->> \"a=1+1*3;b=a-2; a+b;\" lang0-parser (to-numeric-vars 0) (instaparse.core/transform lang0-compiling)))"
   ]
  },
  {
   "cell_type": "markdown",
   "metadata": {},
   "source": [
    "We also have to provide the new implementations for the `generate-instr` multimethod.\n",
    "For the assignment, we first duplicate the value at the top of the stack (that\n",
    "will be assigned) so that it will still be there after the assignment (`store`\n",
    "instruction). This enables us to use assignments as expressions : the value of\n",
    "the assignment expression is the assigned value."
   ]
  },
  {
   "cell_type": "code",
   "execution_count": 76,
   "metadata": {},
   "outputs": [
    {
     "data": {
      "text/plain": [
       "clojure.lang.MultiFn@15db8da9"
      ]
     },
     "execution_count": 76,
     "metadata": {},
     "output_type": "execute_result"
    }
   ],
   "source": [
    "(defmethod generate-instr :load [mv [instr & args]]\n",
    "  (doto mv\n",
    "    (.visitVarInsn Opcodes/ILOAD (int (first args)))))\n",
    "\n",
    "(defmethod generate-instr :store [mv [instr & args]]\n",
    "  (doto mv\n",
    "    (.visitInsn Opcodes/DUP)\n",
    "    (.visitVarInsn Opcodes/ISTORE (int (first args)))))"
   ]
  },
  {
   "cell_type": "markdown",
   "metadata": {},
   "source": [
    "We can then reuse our previous functions :"
   ]
  },
  {
   "cell_type": "code",
   "execution_count": 77,
   "metadata": {},
   "outputs": [
    {
     "data": {
      "text/plain": [
       "#'beaker_clojure_shell_24f2c611-5642-4afc-b5bf-59a032bac84a/lang0-compiler"
      ]
     },
     "execution_count": 77,
     "metadata": {},
     "output_type": "execute_result"
    }
   ],
   "source": [
    "(def lang0-compiler (dispatching-bytecode-generating-eval 0 \"Lang0Compiler\" lang0-compiling))"
   ]
  },
  {
   "cell_type": "markdown",
   "metadata": {},
   "source": [
    "And test our compiler as usual :"
   ]
  },
  {
   "cell_type": "code",
   "execution_count": 79,
   "metadata": {},
   "outputs": [
    {
     "data": {
      "text/plain": [
       "8"
      ]
     },
     "execution_count": 79,
     "metadata": {},
     "output_type": "execute_result"
    }
   ],
   "source": [
    "(def lang0-compiler-test (->> \"a=1 + 3 * (-2 - 1);b= 0 - a;\" lang0-parser (to-numeric-vars 0) lang0-compiler))\n",
    "(lang0-compiler-test)"
   ]
  },
  {
   "cell_type": "markdown",
   "metadata": {},
   "source": [
    "# Lang1\n",
    "## Parser\n",
    "We just add arguments as a special kind of variables in the `varget` rule, their names begin of the form \"%0\", \"%1\",…"
   ]
  },
  {
   "cell_type": "code",
   "execution_count": 80,
   "metadata": {},
   "outputs": [
    {
     "data": {
      "text/plain": [
       "#'beaker_clojure_shell_24f2c611-5642-4afc-b5bf-59a032bac84a/lang1-parser"
      ]
     },
     "execution_count": 80,
     "metadata": {},
     "output_type": "execute_result"
    }
   ],
   "source": [
    "(def lang1-parser\n",
    "  (instaparse.core/parser\n",
    "   \"prog = (spaces expr spaces <';'> spaces)*\n",
    "      <expr> = assig | add-sub\n",
    "      assig = varname spaces <'='> spaces expr\n",
    "      <add-sub> = mult-div | add | sub\n",
    "      add = add-sub spaces <'+'> spaces mult-div\n",
    "      sub = add-sub spaces <'-'> spaces mult-div\n",
    "      <mult-div> = factor | mult |div\n",
    "      mult = mult-div spaces <'*'> spaces factor\n",
    "      div = mult-div spaces <'/'> spaces factor\n",
    "      <factor> = number | <'('> spaces expr spaces <')'> | varget |assig\n",
    "      <spaces> = <#'\\\\s*'>\n",
    "      number = #'-?[0-9]+'\n",
    "      varget = varname | argument\n",
    "      varname = #'[a-zA-Z]\\\\w*'\n",
    "      argument= <'%'>#'[0-9]+'\"))"
   ]
  },
  {
   "cell_type": "markdown",
   "metadata": {},
   "source": [
    "We can test this parser on a sample program :"
   ]
  },
  {
   "cell_type": "code",
   "execution_count": 81,
   "metadata": {},
   "outputs": [
    {
     "data": {
      "image/png": "[encoded data removed]"
     },
     "execution_count": 81,
     "metadata": {},
     "output_type": "execute_result"
    }
   ],
   "source": [
    "(-> \"a=%0;a + %1 *3;\" lang1-parser (instaparse.core/visualize :output-file :buffered-image ))"
   ]
  },
  {
   "cell_type": "markdown",
   "metadata": {},
   "source": [
    "## Interpreter\n",
    "Instead of starting with an empty environment, we fill the initial environment\n",
    "with arguments :"
   ]
  },
  {
   "cell_type": "code",
   "execution_count": 82,
   "metadata": {},
   "outputs": [
    {
     "data": {
      "text/plain": [
       "#'beaker_clojure_shell_24f2c611-5642-4afc-b5bf-59a032bac84a/dynamic-eval-args"
      ]
     },
     "execution_count": 82,
     "metadata": {},
     "output_type": "execute_result"
    }
   ],
   "source": [
    "(defn args-to-env[args]\n",
    "  (into {} (map-indexed #(vector (keyword (str \"%\" %1)) %2) args)))\n",
    "\n",
    "(defn dynamic-eval-args [make-interpreter]\n",
    "  (fn[ast]\n",
    "    (fn[& args]\n",
    "      (instaparse.core/transform (make-interpreting make-interpreter\n",
    "                                          (assoc (args-to-env args)\n",
    "                                                 :_ret 0))\n",
    "                       ast))))"
   ]
  },
  {
   "cell_type": "markdown",
   "metadata": {},
   "source": [
    "We can easily update the transform map from **lang0** :"
   ]
  },
  {
   "cell_type": "code",
   "execution_count": 83,
   "metadata": {},
   "outputs": [
    {
     "data": {
      "text/plain": [
       "#'beaker_clojure_shell_24f2c611-5642-4afc-b5bf-59a032bac84a/make-lang1-instr-interpreting"
      ]
     },
     "execution_count": 83,
     "metadata": {},
     "output_type": "execute_result"
    }
   ],
   "source": [
    "(defn make-lang1-instr-interpreting [env]\n",
    "  (assoc (make-lang0-instr-interpreting env)\n",
    "         :argument #(assoc env :_ret (keyword (str \"%\" %)))))"
   ]
  },
  {
   "cell_type": "markdown",
   "metadata": {},
   "source": [
    "And define our interpreter :"
   ]
  },
  {
   "cell_type": "code",
   "execution_count": 84,
   "metadata": {},
   "outputs": [
    {
     "data": {
      "text/plain": [
       "#'beaker_clojure_shell_24f2c611-5642-4afc-b5bf-59a032bac84a/lang1-interpret"
      ]
     },
     "execution_count": 84,
     "metadata": {},
     "output_type": "execute_result"
    }
   ],
   "source": [
    "(def lang1-interpret (dynamic-eval-args make-lang1-instr-interpreting))"
   ]
  },
  {
   "cell_type": "markdown",
   "metadata": {},
   "source": [
    "The interpreter can be called as usual, except that now we can pass arguments to our function when we call it :"
   ]
  },
  {
   "cell_type": "code",
   "execution_count": 86,
   "metadata": {},
   "outputs": [
    {
     "data": {
      "text/plain": [
       "11"
      ]
     },
     "execution_count": 86,
     "metadata": {},
     "output_type": "execute_result"
    }
   ],
   "source": [
    "(def lang1-interpret-test (->> \"a=%0;a + %1 *3;\" lang1-parser lang1-interpret))\n",
    "(lang1-interpret-test 2 3)"
   ]
  },
  {
   "cell_type": "markdown",
   "metadata": {},
   "source": [
    "## Compiler\n",
    "In order to implement the compiler, we will first have to be able to know how\n",
    "many arguments are used in a program. This can be easily done with a transform\n",
    "map :"
   ]
  },
  {
   "cell_type": "code",
   "execution_count": 87,
   "metadata": {},
   "outputs": [
    {
     "data": {
      "text/plain": [
       "#'beaker_clojure_shell_24f2c611-5642-4afc-b5bf-59a032bac84a/nb-args"
      ]
     },
     "execution_count": 87,
     "metadata": {},
     "output_type": "execute_result"
    }
   ],
   "source": [
    "(defn nb-args[ast]\n",
    "  (inc (instaparse.core/transform (assoc (replace-vals\n",
    "                           lang0-compiling (fn[& args]\n",
    "                                             (apply max (conj (filter number? args)\n",
    "                                                              -1))))\n",
    "                          :argument #(Integer/parseInt %))\n",
    "                   ast)))"
   ]
  },
  {
   "cell_type": "markdown",
   "metadata": {},
   "source": [
    "We can test this function :"
   ]
  },
  {
   "cell_type": "code",
   "execution_count": 88,
   "metadata": {},
   "outputs": [
    {
     "data": {
      "text/plain": [
       "2"
      ]
     },
     "execution_count": 88,
     "metadata": {},
     "output_type": "execute_result"
    }
   ],
   "source": [
    "(->> \"a=%0;a + %1 *3;\" lang1-parser nb-args)"
   ]
  },
  {
   "cell_type": "markdown",
   "metadata": {},
   "source": [
    "Then we add an AST transformation step to replace the `:argument` nodes with the\n",
    "value of the argument number:"
   ]
  },
  {
   "cell_type": "code",
   "execution_count": 89,
   "metadata": {},
   "outputs": [
    {
     "data": {
      "text/plain": [
       "#'beaker_clojure_shell_24f2c611-5642-4afc-b5bf-59a032bac84a/args->varnum"
      ]
     },
     "execution_count": 89,
     "metadata": {},
     "output_type": "execute_result"
    }
   ],
   "source": [
    "(defn args->varnum[ast]\n",
    "  (instaparse.core/transform {:argument #(Integer/parseInt %)} ast))"
   ]
  },
  {
   "cell_type": "markdown",
   "metadata": {},
   "source": [
    "As a few steps in the compilation chain will depend on the number of arguments,\n",
    "we define a new function instead of just piping our AST through the various\n",
    "stages :"
   ]
  },
  {
   "cell_type": "code",
   "execution_count": 90,
   "metadata": {},
   "outputs": [
    {
     "data": {
      "text/plain": [
       "#'beaker_clojure_shell_24f2c611-5642-4afc-b5bf-59a032bac84a/lang1-compiler-chain"
      ]
     },
     "execution_count": 90,
     "metadata": {},
     "output_type": "execute_result"
    }
   ],
   "source": [
    "(defn lang1-compiler-chain[class-name ast]\n",
    "  (let[n-args (nb-args ast)\n",
    "       compiler (dispatching-bytecode-generating-eval n-args class-name lang0-compiling)]\n",
    "    (->> ast args->varnum (to-numeric-vars n-args) compiler)))"
   ]
  },
  {
   "cell_type": "markdown",
   "metadata": {},
   "source": [
    "We can then use this function after parsing as follows :"
   ]
  },
  {
   "cell_type": "code",
   "execution_count": 91,
   "metadata": {},
   "outputs": [
    {
     "data": {
      "text/plain": [
       "17"
      ]
     },
     "execution_count": 91,
     "metadata": {},
     "output_type": "execute_result"
    }
   ],
   "source": [
    "(def lang1-compiler-test (->> \"a=%0;a + %1 *3;\" lang1-parser (lang1-compiler-chain \"Lang1Compiler\")))\n",
    "(lang1-compiler-test 2 5)"
   ]
  },
  {
   "cell_type": "markdown",
   "metadata": {},
   "source": [
    "# TODO Modulo\n",
    "## Parser\n",
    "\n",
    "First we have to provide a grammar. What, if any, modifications should be done on the grammar of **lang1** ?"
   ]
  },
  {
   "cell_type": "code",
   "execution_count": 1,
   "metadata": {},
   "outputs": [
    {
     "data": {
      "text/plain": [
       "null"
      ]
     },
     "execution_count": 1,
     "metadata": {},
     "output_type": "execute_result"
    }
   ],
   "source": [
    ";; TODO parser should be defined here"
   ]
  },
  {
   "cell_type": "code",
   "execution_count": 4,
   "metadata": {},
   "outputs": [
    {
     "data": {
      "text/plain": [
       "null"
      ]
     },
     "execution_count": 4,
     "metadata": {},
     "output_type": "execute_result"
    }
   ],
   "source": [
    ";; TODO test the parser"
   ]
  },
  {
   "cell_type": "markdown",
   "metadata": {
    "tags": [
     "reverse"
    ]
   },
   "source": [
    "## Interpreter\n",
    "In order to reuse the functions used for the **lang1** interpreter, we have to define a transform map. Also this transform map will have to take the modulo factor into account."
   ]
  },
  {
   "cell_type": "code",
   "execution_count": 5,
   "metadata": {},
   "outputs": [
    {
     "data": {
      "text/plain": [
       "null"
      ]
     },
     "execution_count": 5,
     "metadata": {},
     "output_type": "execute_result"
    }
   ],
   "source": [
    ";; TODO function creating the transform map and defining the modulo-interpret function."
   ]
  },
  {
   "cell_type": "code",
   "execution_count": 6,
   "metadata": {},
   "outputs": [
    {
     "data": {
      "text/plain": [
       "null"
      ]
     },
     "execution_count": 6,
     "metadata": {},
     "output_type": "execute_result"
    }
   ],
   "source": [
    ";; TODO test the interpreter"
   ]
  },
  {
   "cell_type": "markdown",
   "metadata": {},
   "source": [
    "## Compiler\n",
    "In order to reuse the functions used for the **lang1** compiler, we have to redefine the multimethods."
   ]
  },
  {
   "cell_type": "code",
   "execution_count": 8,
   "metadata": {},
   "outputs": [
    {
     "data": {
      "text/plain": [
       "null"
      ]
     },
     "execution_count": 8,
     "metadata": {},
     "output_type": "execute_result"
    }
   ],
   "source": [
    ";; TODO redefine multimethods and define the modulo-compiler-chain function"
   ]
  },
  {
   "cell_type": "code",
   "execution_count": 9,
   "metadata": {},
   "outputs": [
    {
     "data": {
      "text/plain": [
       "null"
      ]
     },
     "execution_count": 9,
     "metadata": {},
     "output_type": "execute_result"
    }
   ],
   "source": [
    ";; TODO test the compiler"
   ]
  }
 ],
 "metadata": {
  "beakerx_kernel_parameters": {},
  "kernelspec": {
   "display_name": "Clojure",
   "language": "clojure",
   "name": "clojure"
  },
  "language_info": {
   "codemirror_mode": "Clojure",
   "file_extension": ".clj",
   "mimetype": "text/x-clojure",
   "name": "Clojure",
   "nbconverter_exporter": "",
   "version": "1.9.0"
  },
  "toc": {
   "base_numbering": 1,
   "nav_menu": {},
   "number_sections": false,
   "sideBar": false,
   "skip_h1_title": false,
   "title_cell": "Table of Contents",
   "title_sidebar": "Contents",
   "toc_cell": false,
   "toc_position": {},
   "toc_section_display": false,
   "toc_window_display": false
  }
 },
 "nbformat": 4,
 "nbformat_minor": 2
}
